{
 "cells": [
  {
   "cell_type": "markdown",
   "metadata": {},
   "source": [
    "# Main functions\n",
    " - StandardFileReader\n",
    " - maybeFST\n",
    " - get_basic_dataframe\n",
    " - StandardFileWriter\n",
    " - add_dask_column\n",
    " - add_grid_column\n",
    " - add_columns\n",
    " - compute\n",
    " - get_2d_lat_lon\n",
    " - metadata_cleanup\n",
    " - select_with_meta\n",
    " - to_dask\n",
    " - to_numpy\n",
    " - unit_convert\n",
    " - unit_convert_array\n",
    " - voir"
   ]
  },
  {
   "cell_type": "markdown",
   "metadata": {},
   "source": [
    "# StandardFileReader and maybeFST\n",
    "- reads in the record information of the provided file(s)"
   ]
  },
  {
   "cell_type": "code",
   "execution_count": null,
   "metadata": {},
   "outputs": [],
   "source": [
    "import glob\n",
    "print(f'StandardFileReader:\\n{fstpy.StandardFileReader.__doc__}')\n",
    "print(f'maybeFST:\\n{fstpy.maybeFST.__doc__}')\n",
    "directory = os.path.join(ATM_MODEL_DFILES, 'bcmk' , '**')\n",
    "files = glob.glob(directory)\n",
    "# check that the files are FST files\n",
    "files = [f for f in files[:10] if fstpy.maybeFST(f)]\n",
    "df = fstpy.StandardFileReader(files).to_pandas()\n",
    "cols = list(df.columns)\n",
    "cols.remove('d')\n",
    "df[cols]"
   ]
  },
  {
   "cell_type": "markdown",
   "metadata": {},
   "source": [
    "# Get a lot of files"
   ]
  },
  {
   "cell_type": "code",
   "execution_count": null,
   "metadata": {},
   "outputs": [],
   "source": [
    "directory = os.path.join(CMCGRIDF, 'prog', 'reghyb' , '**')\n",
    "files = glob.glob(directory)\n",
    "files = [f for f in files if fstpy.maybeFST(f)]\n",
    "print(f'found {len(files)} files')"
   ]
  },
  {
   "cell_type": "markdown",
   "metadata": {},
   "source": [
    "# get_basic_dataframe (lightweight reader)"
   ]
  },
  {
   "cell_type": "code",
   "execution_count": null,
   "metadata": {},
   "outputs": [],
   "source": [
    "import pandas as pd\n",
    "from tqdm import tqdm\n",
    "print(f'get_basic_dataframe:\\n{fstpy.get_basic_dataframe.__doc__}')\n",
    "\n",
    "df_list = [fstpy.get_basic_dataframe(f) for f in tqdm(files)]\n",
    "df = pd.concat(df_list,ignore_index=True)\n",
    "df"
   ]
  },
  {
   "cell_type": "markdown",
   "metadata": {},
   "source": [
    "# StandardFileWriter, add_grid_column, add_dask_column"
   ]
  },
  {
   "cell_type": "code",
   "execution_count": null,
   "metadata": {},
   "outputs": [],
   "source": [
    "from os import getenv\n",
    "\n",
    "# setup our output file\n",
    "user = getenv(\"USER\")\n",
    "out_file = f'/tmp/{user}/TT.std'\n",
    "fstpy.delete_file(out_file)\n",
    "\n",
    "print(f'StandardFileWriter:\\n{fstpy.StandardFileWriter.__doc__}')\n",
    "print(f'add_grid_column:\\n{fstpy.add_grid_column.__doc__}')\n",
    "print(f'add_dask_column:\\n{fstpy.add_dask_column.__doc__}')\n",
    "\n",
    "# the basic dataframe has no grid column\n",
    "df = fstpy.add_grid_column(df)\n",
    "\n",
    "# get all the TT\n",
    "tt_df = df.loc[df.nomvar=='TT']\n",
    "\n",
    "# get the first grid\n",
    "grid = tt_df.iloc[0].grid\n",
    "\n",
    "# get the TT of only the first grid\n",
    "tt_df = tt_df.loc[tt_df.grid == grid]\n",
    "# get TT's horizontal and vertical grid fields\n",
    "grid_meta_df = df.loc[(df.nomvar.isin(['>>', '^^', '^>', '!!', 'P0', 'PT'])) & (df.grid==grid)]\n",
    "\n",
    "# join all the rows together\n",
    "tt_df = pd.concat([tt_df,grid_meta_df], ignore_index=True)\n",
    "\n",
    "# the basic dataframe needs the 'd' column\n",
    "tt_df = fstpy.add_dask_column(tt_df)\n",
    "\n",
    "# write the results\n",
    "fstpy.StandardFileWriter(out_file, tt_df).to_fst()"
   ]
  },
  {
   "cell_type": "markdown",
   "metadata": {},
   "source": [
    "# add_columns"
   ]
  },
  {
   "cell_type": "code",
   "execution_count": null,
   "metadata": {},
   "outputs": [],
   "source": [
    "print(f'add_columns:\\n{fstpy.add_columns.__doc__}')\n",
    "df = fstpy.StandardFileReader('/fs/site4/eccc/cmd/w/sbf000/fstpy/source_data_5005.std').to_pandas()\n",
    "\n",
    "print(df.columns)\n",
    "orig_cols = set(df.columns)\n",
    "# add decode ips\n",
    "df = fstpy.add_columns(df, 'ip_info')\n",
    "new_cols = set(df.columns)\n",
    "print(df.columns)\n",
    "diff = orig_cols.difference(new_cols)\n",
    "print(f'new added columns {diff}')\n",
    "df[list(diff)]\n"
   ]
  }
 ],
 "metadata": {
  "interpreter": {
   "hash": "5d30657c2dbd1cbb51e7376e0bd3558cf73735189708423b5594cdc55d2f21fd"
  },
  "kernelspec": {
   "display_name": "Python 3.8.1 64-bit ('surgepy_1.0.8_all': conda)",
   "language": "python",
   "name": "python3"
  },
  "language_info": {
   "name": "python",
   "version": "3.8.1"
  },
  "orig_nbformat": 4
 },
 "nbformat": 4,
 "nbformat_minor": 2
}
