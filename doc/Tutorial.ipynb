{
 "cells": [
  {
   "cell_type": "markdown",
   "id": "406b5155",
   "metadata": {},
   "source": [
    "# Main differences with rpnpy\n",
    "## Getting the file information (without data fstprm, with data fstluk)\n",
    "### Rpnpy - metadata is in a list(dict)"
   ]
  },
  {
   "cell_type": "code",
   "execution_count": 2,
   "id": "1c57fcf1",
   "metadata": {},
   "outputs": [],
   "source": [
    "# put this at the beginning of a vscode notebook\n",
    "import os\n",
    "import sys\n",
    "import pathlib\n",
    "# make rpnpy visible\n",
    "os.environ['LD_LIBRARY_PATH'] = '/fs/ssm/eccc/mrd/rpn/libs/19.6.0/ubuntu-18.04-skylake-64/lib/ubuntu-18.04-skylake-64/intel-19.0.3.199:/fs/ssm/eccc/mrd/rpn/vgrid/6.5.0/ubuntu-18.04-skylake-64/lib/ubuntu-18.04-skylake-64/intel-19.0.3.199:/fs/ssm/eccc/mrd/rpn/utils/19.6.0/ubuntu-18.04-skylake-64/lib:/fs/ssm/eccc/mrd/rpn/utils/19.6.0/ubuntu-18.04-amd64-64/lib:/fs/ssm/hpco/exp/openmpi/hpcx-core-2.4.0/hpcx-core_2.4.0-gcc-mofed-4.6-1_ubuntu-18.04-amd64-64/x/ucx/lib:/fs/ssm/hpco/exp/openmpi/hpcx-core-2.4.0/hpcx-core_2.4.0-gcc-mofed-4.6-1_ubuntu-18.04-amd64-64/x/sharp/lib:/fs/ssm/hpco/exp/openmpi/hpcx-core-2.4.0/hpcx-core_2.4.0-gcc-mofed-4.6-1_ubuntu-18.04-amd64-64/x/hcoll/lib:/fs/ssm/hpco/exp/openmpi/openmpi-3.1.2--hpcx-2.4.0-mofed-4.6--intel-19.0.3.199/ubuntu-18.04-amd64-64/lib:/fs/ssm/main/opt/intelcomp/intelpsxe-cluster-19.0.3.199/intelpsxe-cluster_19.0.3.199_multi/compilers_and_libraries_2019.3.199/linux/compiler/lib/intel64_lin:/fs/ssm/main/opt/intelcomp/intelpsxe-cluster-19.0.3.199/intelpsxe-cluster_19.0.3.199_multi/compilers_and_libraries_2019.3.199/linux/ipp/lib/intel64:/fs/ssm/main/opt/intelcomp/intelpsxe-cluster-19.0.3.199/intelpsxe-cluster_19.0.3.199_multi/compilers_and_libraries_2019.3.199/linux/mkl/lib/intel64_lin:/fs/ssm/main/opt/intelcomp/intelpsxe-cluster-19.0.3.199/intelpsxe-cluster_19.0.3.199_multi/compilers_and_libraries_2019.3.199/linux/tbb/lib/intel64/gcc4.7:/fs/ssm/main/opt/intelcomp/intelpsxe-cluster-19.0.3.199/intelpsxe-cluster_19.0.3.199_multi/debugger_2019/libipt/intel64/lib:/fs/ssm/main/opt/intelcomp/intelpsxe-cluster-19.0.3.199/intelpsxe-cluster_19.0.3.199_multi/compilers_and_libraries_2019.3.199/linux/daal/lib/intel64_lin:/fs/ssm/main/opt/intelcomp/intelpsxe-cluster-19.0.3.199/intelpsxe-cluster_19.0.3.199_multi/compilers_and_libraries_2019.3.199/linux/daal/../tbb/lib/intel64_lin/gcc4.4:/opt/mellanox/mxm/lib'\n",
    "sys.path.append('/fs/ssm/eccc/mrd/rpn/MIG/ENV/d/rpnpy/rpnpy_2.1.2/rpnpy_2.1.2_all/lib')\n",
    "sys.path.append('/fs/ssm/eccc/mrd/rpn/libs/19.6.0/ubuntu-18.04-skylake-64/lib/ubuntu-18.04-skylake-64/intel-19.0.3.199')\n",
    "sys.path.append('/fs/ssm/eccc/mrd/rpn/vgrid/6.5.0/ubuntu-18.04-skylake-64/lib/ubuntu-18.04-skylake-64/intel-19.0.3.199')\n",
    "sys.path.append('/fs/ssm/eccc/cmd/cmda/libs/19.6.0/intel-19.0.3.199/ubuntu-18.04-skylake-64/lib')\n",
    "sys.path.append('/fs/ssm/eccc/mrd/rpn/utils/19.6.0/env-python_1.3.0_all/share/Python/PythonAllRevs')\n",
    "# make ci_fstcomp visible\n",
    "sys.path.append('/fs/ssm/eccc/cmd/cmds/apps/ci_fstcomp/1.0.3/all/lib/python')\n",
    "sys.path.append('/home/zak000/src/fstpy')"
   ]
  },
  {
   "cell_type": "code",
   "execution_count": 9,
   "id": "f9267d8a",
   "metadata": {},
   "outputs": [
    {
     "name": "stdout",
     "output_type": "stream",
     "text": [
      "{'key': 1, 'shape': (1108, 1082, 1), 'dateo': 442998800, 'datev': 443004200, 'deet': 300, 'npas': 72, 'ni': 1108, 'nj': 1082, 'nk': 1, 'nbits': 16, 'datyp': 134, 'ip1': 95529009, 'ip2': 6, 'ip3': 0, 'typvar': 'P ', 'nomvar': 'HU  ', 'etiket': 'R1_V710_N   ', 'grtyp': 'Z', 'ig1': 33792, 'ig2': 77761, 'ig3': 1, 'ig4': 0, 'swa': 2335, 'lng': 216286, 'dltf': 0, 'ubc': 0, 'xtra1': 443004200, 'xtra2': 0, 'xtra3': 0}"
     ]
    }
   ],
   "source": [
    "import rpnpy.librmn.all as rmn\n",
    "unit = rmn.fstopenall('/fs/site3/eccc/cmd/w/spst900/spooki/spooki_dir/pluginsRelatedStuff/ReaderStd_WriterStd/testsFiles/source_data_5005.std')\n",
    "keys = rmn.fstinl(unit)\n",
    "records = [rmn.fstprm(k) for k in keys]\n",
    "rmn.fstcloseall(unit)\n",
    "for rec in records[0:1]:\n",
    "    print(rec,end='')"
   ]
  },
  {
   "cell_type": "markdown",
   "id": "4f606331",
   "metadata": {},
   "source": [
    "## Getting the file information (with data as dask lazy arrays, decoded attributes)\n",
    "### Fstpy - data is in a dataframe"
   ]
  },
  {
   "cell_type": "code",
   "execution_count": 3,
   "id": "37dd2d9c",
   "metadata": {},
   "outputs": [
    {
     "data": {
      "text/html": [
       "<div>\n",
       "<style scoped>\n",
       "    .dataframe tbody tr th:only-of-type {\n",
       "        vertical-align: middle;\n",
       "    }\n",
       "\n",
       "    .dataframe tbody tr th {\n",
       "        vertical-align: top;\n",
       "    }\n",
       "\n",
       "    .dataframe thead th {\n",
       "        text-align: right;\n",
       "    }\n",
       "</style>\n",
       "<table border=\"1\" class=\"dataframe\">\n",
       "  <thead>\n",
       "    <tr style=\"text-align: right;\">\n",
       "      <th></th>\n",
       "      <th>nomvar</th>\n",
       "      <th>typvar</th>\n",
       "      <th>etiket</th>\n",
       "      <th>ni</th>\n",
       "      <th>nj</th>\n",
       "      <th>nk</th>\n",
       "      <th>dateo</th>\n",
       "      <th>ip1</th>\n",
       "      <th>ip2</th>\n",
       "      <th>ip3</th>\n",
       "      <th>...</th>\n",
       "      <th>npas</th>\n",
       "      <th>datyp</th>\n",
       "      <th>nbits</th>\n",
       "      <th>grtyp</th>\n",
       "      <th>ig1</th>\n",
       "      <th>ig2</th>\n",
       "      <th>ig3</th>\n",
       "      <th>ig4</th>\n",
       "      <th>datev</th>\n",
       "      <th>grid</th>\n",
       "    </tr>\n",
       "  </thead>\n",
       "  <tbody>\n",
       "    <tr>\n",
       "      <th>0</th>\n",
       "      <td>PN</td>\n",
       "      <td>P</td>\n",
       "      <td>R1_V710_N</td>\n",
       "      <td>1108</td>\n",
       "      <td>1082</td>\n",
       "      <td>1</td>\n",
       "      <td>442998800</td>\n",
       "      <td>0</td>\n",
       "      <td>6</td>\n",
       "      <td>0</td>\n",
       "      <td>...</td>\n",
       "      <td>72</td>\n",
       "      <td>134</td>\n",
       "      <td>12</td>\n",
       "      <td>Z</td>\n",
       "      <td>33792</td>\n",
       "      <td>77761</td>\n",
       "      <td>1</td>\n",
       "      <td>0</td>\n",
       "      <td>443004200</td>\n",
       "      <td>3379277761</td>\n",
       "    </tr>\n",
       "    <tr>\n",
       "      <th>1</th>\n",
       "      <td>P0</td>\n",
       "      <td>P</td>\n",
       "      <td>R1_V710_N</td>\n",
       "      <td>1108</td>\n",
       "      <td>1082</td>\n",
       "      <td>1</td>\n",
       "      <td>442998800</td>\n",
       "      <td>0</td>\n",
       "      <td>6</td>\n",
       "      <td>0</td>\n",
       "      <td>...</td>\n",
       "      <td>72</td>\n",
       "      <td>134</td>\n",
       "      <td>16</td>\n",
       "      <td>Z</td>\n",
       "      <td>33792</td>\n",
       "      <td>77761</td>\n",
       "      <td>1</td>\n",
       "      <td>0</td>\n",
       "      <td>443004200</td>\n",
       "      <td>3379277761</td>\n",
       "    </tr>\n",
       "    <tr>\n",
       "      <th>2</th>\n",
       "      <td>QC</td>\n",
       "      <td>P</td>\n",
       "      <td>R1_V710_N</td>\n",
       "      <td>1108</td>\n",
       "      <td>1082</td>\n",
       "      <td>1</td>\n",
       "      <td>442998800</td>\n",
       "      <td>76696048</td>\n",
       "      <td>6</td>\n",
       "      <td>0</td>\n",
       "      <td>...</td>\n",
       "      <td>72</td>\n",
       "      <td>134</td>\n",
       "      <td>16</td>\n",
       "      <td>Z</td>\n",
       "      <td>33792</td>\n",
       "      <td>77761</td>\n",
       "      <td>1</td>\n",
       "      <td>0</td>\n",
       "      <td>443004200</td>\n",
       "      <td>3379277761</td>\n",
       "    </tr>\n",
       "    <tr>\n",
       "      <th>3</th>\n",
       "      <td>TD</td>\n",
       "      <td>P</td>\n",
       "      <td>R1_V710_N</td>\n",
       "      <td>1108</td>\n",
       "      <td>1082</td>\n",
       "      <td>1</td>\n",
       "      <td>442998800</td>\n",
       "      <td>76696048</td>\n",
       "      <td>6</td>\n",
       "      <td>0</td>\n",
       "      <td>...</td>\n",
       "      <td>72</td>\n",
       "      <td>134</td>\n",
       "      <td>12</td>\n",
       "      <td>Z</td>\n",
       "      <td>33792</td>\n",
       "      <td>77761</td>\n",
       "      <td>1</td>\n",
       "      <td>0</td>\n",
       "      <td>443004200</td>\n",
       "      <td>3379277761</td>\n",
       "    </tr>\n",
       "    <tr>\n",
       "      <th>4</th>\n",
       "      <td>ES</td>\n",
       "      <td>P</td>\n",
       "      <td>R1_V710_N</td>\n",
       "      <td>1108</td>\n",
       "      <td>1082</td>\n",
       "      <td>1</td>\n",
       "      <td>442998800</td>\n",
       "      <td>76696048</td>\n",
       "      <td>6</td>\n",
       "      <td>0</td>\n",
       "      <td>...</td>\n",
       "      <td>72</td>\n",
       "      <td>134</td>\n",
       "      <td>16</td>\n",
       "      <td>Z</td>\n",
       "      <td>33792</td>\n",
       "      <td>77761</td>\n",
       "      <td>1</td>\n",
       "      <td>0</td>\n",
       "      <td>443004200</td>\n",
       "      <td>3379277761</td>\n",
       "    </tr>\n",
       "    <tr>\n",
       "      <th>...</th>\n",
       "      <td>...</td>\n",
       "      <td>...</td>\n",
       "      <td>...</td>\n",
       "      <td>...</td>\n",
       "      <td>...</td>\n",
       "      <td>...</td>\n",
       "      <td>...</td>\n",
       "      <td>...</td>\n",
       "      <td>...</td>\n",
       "      <td>...</td>\n",
       "      <td>...</td>\n",
       "      <td>...</td>\n",
       "      <td>...</td>\n",
       "      <td>...</td>\n",
       "      <td>...</td>\n",
       "      <td>...</td>\n",
       "      <td>...</td>\n",
       "      <td>...</td>\n",
       "      <td>...</td>\n",
       "      <td>...</td>\n",
       "      <td>...</td>\n",
       "    </tr>\n",
       "    <tr>\n",
       "      <th>1869</th>\n",
       "      <td>QQ</td>\n",
       "      <td>P</td>\n",
       "      <td>R1_V710_N</td>\n",
       "      <td>1107</td>\n",
       "      <td>1081</td>\n",
       "      <td>1</td>\n",
       "      <td>442998800</td>\n",
       "      <td>96015143</td>\n",
       "      <td>6</td>\n",
       "      <td>0</td>\n",
       "      <td>...</td>\n",
       "      <td>72</td>\n",
       "      <td>134</td>\n",
       "      <td>12</td>\n",
       "      <td>Z</td>\n",
       "      <td>50460</td>\n",
       "      <td>53326</td>\n",
       "      <td>4</td>\n",
       "      <td>0</td>\n",
       "      <td>443004200</td>\n",
       "      <td>5046053326</td>\n",
       "    </tr>\n",
       "    <tr>\n",
       "      <th>1870</th>\n",
       "      <td>QQ</td>\n",
       "      <td>P</td>\n",
       "      <td>R1_V710_N</td>\n",
       "      <td>1107</td>\n",
       "      <td>1081</td>\n",
       "      <td>1</td>\n",
       "      <td>442998800</td>\n",
       "      <td>95286806</td>\n",
       "      <td>6</td>\n",
       "      <td>0</td>\n",
       "      <td>...</td>\n",
       "      <td>72</td>\n",
       "      <td>134</td>\n",
       "      <td>12</td>\n",
       "      <td>Z</td>\n",
       "      <td>50460</td>\n",
       "      <td>53326</td>\n",
       "      <td>4</td>\n",
       "      <td>0</td>\n",
       "      <td>443004200</td>\n",
       "      <td>5046053326</td>\n",
       "    </tr>\n",
       "    <tr>\n",
       "      <th>1871</th>\n",
       "      <td>QQ</td>\n",
       "      <td>P</td>\n",
       "      <td>R1_V710_N</td>\n",
       "      <td>1107</td>\n",
       "      <td>1081</td>\n",
       "      <td>1</td>\n",
       "      <td>442998800</td>\n",
       "      <td>95270482</td>\n",
       "      <td>6</td>\n",
       "      <td>0</td>\n",
       "      <td>...</td>\n",
       "      <td>72</td>\n",
       "      <td>134</td>\n",
       "      <td>12</td>\n",
       "      <td>Z</td>\n",
       "      <td>50460</td>\n",
       "      <td>53326</td>\n",
       "      <td>4</td>\n",
       "      <td>0</td>\n",
       "      <td>443004200</td>\n",
       "      <td>5046053326</td>\n",
       "    </tr>\n",
       "    <tr>\n",
       "      <th>1872</th>\n",
       "      <td>&gt;&gt;</td>\n",
       "      <td>X</td>\n",
       "      <td>R1_V710_N</td>\n",
       "      <td>1107</td>\n",
       "      <td>1</td>\n",
       "      <td>1</td>\n",
       "      <td>442998800</td>\n",
       "      <td>50460</td>\n",
       "      <td>53326</td>\n",
       "      <td>4</td>\n",
       "      <td>...</td>\n",
       "      <td>0</td>\n",
       "      <td>5</td>\n",
       "      <td>32</td>\n",
       "      <td>E</td>\n",
       "      <td>1470</td>\n",
       "      <td>560</td>\n",
       "      <td>54400</td>\n",
       "      <td>46560</td>\n",
       "      <td>442998800</td>\n",
       "      <td>5046053326</td>\n",
       "    </tr>\n",
       "    <tr>\n",
       "      <th>1873</th>\n",
       "      <td>^^</td>\n",
       "      <td>X</td>\n",
       "      <td>R1_V710_N</td>\n",
       "      <td>1</td>\n",
       "      <td>1081</td>\n",
       "      <td>1</td>\n",
       "      <td>442998800</td>\n",
       "      <td>50460</td>\n",
       "      <td>53326</td>\n",
       "      <td>4</td>\n",
       "      <td>...</td>\n",
       "      <td>0</td>\n",
       "      <td>5</td>\n",
       "      <td>32</td>\n",
       "      <td>E</td>\n",
       "      <td>1470</td>\n",
       "      <td>560</td>\n",
       "      <td>54400</td>\n",
       "      <td>46560</td>\n",
       "      <td>442998800</td>\n",
       "      <td>5046053326</td>\n",
       "    </tr>\n",
       "  </tbody>\n",
       "</table>\n",
       "<p>1874 rows × 21 columns</p>\n",
       "</div>"
      ],
      "text/plain": [
       "     nomvar typvar     etiket    ni    nj  nk      dateo       ip1    ip2  \\\n",
       "0        PN      P  R1_V710_N  1108  1082   1  442998800         0      6   \n",
       "1        P0      P  R1_V710_N  1108  1082   1  442998800         0      6   \n",
       "2        QC      P  R1_V710_N  1108  1082   1  442998800  76696048      6   \n",
       "3        TD      P  R1_V710_N  1108  1082   1  442998800  76696048      6   \n",
       "4        ES      P  R1_V710_N  1108  1082   1  442998800  76696048      6   \n",
       "...     ...    ...        ...   ...   ...  ..        ...       ...    ...   \n",
       "1869     QQ      P  R1_V710_N  1107  1081   1  442998800  96015143      6   \n",
       "1870     QQ      P  R1_V710_N  1107  1081   1  442998800  95286806      6   \n",
       "1871     QQ      P  R1_V710_N  1107  1081   1  442998800  95270482      6   \n",
       "1872     >>      X  R1_V710_N  1107     1   1  442998800     50460  53326   \n",
       "1873     ^^      X  R1_V710_N     1  1081   1  442998800     50460  53326   \n",
       "\n",
       "      ip3  ...  npas  datyp  nbits  grtyp    ig1    ig2    ig3    ig4  \\\n",
       "0       0  ...    72    134     12      Z  33792  77761      1      0   \n",
       "1       0  ...    72    134     16      Z  33792  77761      1      0   \n",
       "2       0  ...    72    134     16      Z  33792  77761      1      0   \n",
       "3       0  ...    72    134     12      Z  33792  77761      1      0   \n",
       "4       0  ...    72    134     16      Z  33792  77761      1      0   \n",
       "...   ...  ...   ...    ...    ...    ...    ...    ...    ...    ...   \n",
       "1869    0  ...    72    134     12      Z  50460  53326      4      0   \n",
       "1870    0  ...    72    134     12      Z  50460  53326      4      0   \n",
       "1871    0  ...    72    134     12      Z  50460  53326      4      0   \n",
       "1872    4  ...     0      5     32      E   1470    560  54400  46560   \n",
       "1873    4  ...     0      5     32      E   1470    560  54400  46560   \n",
       "\n",
       "          datev        grid  \n",
       "0     443004200  3379277761  \n",
       "1     443004200  3379277761  \n",
       "2     443004200  3379277761  \n",
       "3     443004200  3379277761  \n",
       "4     443004200  3379277761  \n",
       "...         ...         ...  \n",
       "1869  443004200  5046053326  \n",
       "1870  443004200  5046053326  \n",
       "1871  443004200  5046053326  \n",
       "1872  442998800  5046053326  \n",
       "1873  442998800  5046053326  \n",
       "\n",
       "[1874 rows x 21 columns]"
      ]
     },
     "execution_count": 3,
     "metadata": {},
     "output_type": "execute_result"
    }
   ],
   "source": [
    "import fstpy.all as fstpy\n",
    "# setup your file to read\n",
    "df = fstpy.StandardFileReader('/fs/site3/eccc/cmd/w/spst900/spooki/spooki_dir/pluginsRelatedStuff/ReaderStd_WriterStd/testsFiles/source_data_5005.std', decode_metadata=True).to_pandas()\n",
    "df[['nomvar', 'typvar', 'etiket', 'ni', 'nj', 'nk', 'dateo', 'ip1', 'ip2', 'ip3', 'deet', 'npas', 'datyp', 'nbits', 'grtyp', 'ig1', 'ig2', 'ig3', 'ig4', 'datev', 'grid']]\n",
    "\n",
    "#key – Positioning information to the record. Obtained with fstinf or fstinl.\n",
    "#dateo – date of origin (date time stamp) Cannot change dateo and datev.\n",
    "#datev – date of validity (date time stamp) Cannot change dateo and datev.\n",
    "#deet – Length of a time step in seconds datev constant unless keep_dateo\n",
    "#npas – time step number datev constant unless keep_dateo\n",
    "#ni – first dimension of the data field\n",
    "#nj – second dimension of the data field\n",
    "#nk – third dimension of the data field\n",
    "#nbits – number of bits kept for the elements of the field\n",
    "#datyp – data type of the elements\n",
    "#ip1 – vertical level\n",
    "#ip2 – forecast hour\n",
    "#ip3 – user defined identifier\n",
    "#typvar – type of field (forecast, analysis, climatology)\n",
    "#nomvar – variable name\n",
    "#etiket – label\n",
    "#grtyp – type of geographical projection\n",
    "#ig1 – first grid descriptor\n",
    "#ig2 – second grid descriptor\n",
    "#ig3 – third grid descriptor\n",
    "#ig4 – fourth grid descriptor/\n",
    "#keep_dateo (bool) – By default datev is kept constant unless dateo is specified or keep_dateo=True (keep_dateo must be False is datev is provided).\n",
    "#verion 2.0.rc1, this function can be called with a rec meta (From) –\n",
    "#keylist instead of a simple key number (or) –\n",
    "#rec (dict) – dictionary where key = rec[‘key’]\n",
    "#keylist (list) – list of keys for records to edit"
   ]
  },
  {
   "cell_type": "markdown",
   "id": "2c390353",
   "metadata": {},
   "source": [
    "### Already decoded attributes"
   ]
  },
  {
   "cell_type": "code",
   "execution_count": null,
   "id": "c3af9d6f",
   "metadata": {},
   "outputs": [],
   "source": [
    "# df = data frame for storing data tables and list of vectors of equal length\n",
    "# Question: Comment ca crée 3 differentes colonnes pour la colonne etiket\n",
    "# Question: Comment certaines colonnes sont decoder ou ont apparu (date_of_observation, date_of_validity,level etc...)?\n",
    "\n",
    "df[['nomvar', 'typvar', 'run', 'label', 'implementation', 'ni', 'nj', 'nk', 'date_of_observation', 'date_of_validity', 'level', 'ip1_pkind', 'data_type_str', 'nbits', 'unit', 'description', 'vctype']]"
   ]
  },
  {
   "cell_type": "markdown",
   "id": "dac69b63",
   "metadata": {},
   "source": [
    "## Writing to file\n",
    "### Rpnpy"
   ]
  },
  {
   "cell_type": "code",
   "execution_count": 10,
   "id": "44e7691d",
   "metadata": {},
   "outputs": [],
   "source": [
    "import rpnpy.librmn.all as rmn\n",
    "from os import getenv\n",
    "\n",
    "# setup our output file\n",
    "\n",
    "# returns the value of the environment variable key if it exists otherwise returns the default value.\n",
    "# Get the value of 'USER'\n",
    "key = \"USER\"\n",
    "user = getenv(key)\n",
    "out_file = f'/tmp/{user}/TT.std'\n",
    "#je delete le file qui a deja ete utilise precedemment\n",
    "fstpy.delete_file(out_file)\n",
    "\n",
    "# Open existing file in Rear Only mode(FST_RO)\n",
    "unit1 = rmn.fstopenall('/fs/site3/eccc/cmd/w/spst900/spooki/spooki_dir/pluginsRelatedStuff/ReaderStd_WriterStd/testsFiles/source_data_5005.std', rmn.FST_RO)\n",
    "# Open existing file in Rear/Write mode(FST_RW)\n",
    "unit2 = rmn.fstopenall(out_file, rmn.FST_RW)\n",
    "#Question: Pourquoi c pas keys1 = rmn.fstinl(unit1, nomvar='TT')\n",
    "# et keys2 = rmn.fstinl(unit2, nomvar='TT')\n",
    "\n",
    "## Find all record named TT\n",
    "keys = rmn.fstinl(unit, nomvar='TT')\n",
    "for k in keys:\n",
    "    # read it meta + data\n",
    "    r = rmn.fstluk(k)\n",
    "    # Write the record specifying data and meta together in the output file\n",
    "    rmn.fstecr(unit2,r)\n",
    "# Properly close files, important when writing to avoid corrupted files\n",
    "rmn.fstcloseall(unit1)\n",
    "rmn.fstcloseall(unit2)"
   ]
  },
  {
   "cell_type": "markdown",
   "id": "fce75466",
   "metadata": {},
   "source": [
    "### Fstpy - no unit management"
   ]
  },
  {
   "cell_type": "code",
   "execution_count": 11,
   "id": "e1c9a7c2",
   "metadata": {},
   "outputs": [],
   "source": [
    "# setup our output file\n",
    "out_file = f'/tmp/{user}/TT_fstpy.std'\n",
    "fstpy.delete_file(out_file)\n",
    "# read\n",
    "df = fstpy.StandardFileReader('/fs/site3/eccc/cmd/w/spst900/spooki/spooki_dir/pluginsRelatedStuff/ReaderStd_WriterStd/testsFiles/source_data_5005.std', query='nomvar==\"TT\"').to_pandas()\n",
    "# write\n",
    "fstpy.StandardFileWriter(out_file, df).to_fst()"
   ]
  },
  {
   "cell_type": "markdown",
   "id": "c92606c6",
   "metadata": {},
   "source": [
    "# Pandas\n",
    "## Data anlysis"
   ]
  },
  {
   "cell_type": "code",
   "execution_count": 14,
   "id": "b7a65adc",
   "metadata": {},
   "outputs": [
    {
     "name": "stderr",
     "output_type": "stream",
     "text": [
      "100%|██████████| 510/510 [00:27<00:00, 18.70it/s]\n"
     ]
    },
    {
     "data": {
      "text/html": [
       "<div>\n",
       "<style scoped>\n",
       "    .dataframe tbody tr th:only-of-type {\n",
       "        vertical-align: middle;\n",
       "    }\n",
       "\n",
       "    .dataframe tbody tr th {\n",
       "        vertical-align: top;\n",
       "    }\n",
       "\n",
       "    .dataframe thead th {\n",
       "        text-align: right;\n",
       "    }\n",
       "</style>\n",
       "<table border=\"1\" class=\"dataframe\">\n",
       "  <thead>\n",
       "    <tr style=\"text-align: right;\">\n",
       "      <th></th>\n",
       "      <th>nomvar</th>\n",
       "      <th>typvar</th>\n",
       "      <th>etiket</th>\n",
       "      <th>ni</th>\n",
       "      <th>nj</th>\n",
       "      <th>nk</th>\n",
       "      <th>dateo</th>\n",
       "      <th>ip1</th>\n",
       "      <th>ip2</th>\n",
       "      <th>ip3</th>\n",
       "      <th>...</th>\n",
       "      <th>ip2_kind</th>\n",
       "      <th>ip2_pkind</th>\n",
       "      <th>ip3_dec</th>\n",
       "      <th>ip3_kind</th>\n",
       "      <th>ip3_pkind</th>\n",
       "      <th>surface</th>\n",
       "      <th>follow_topography</th>\n",
       "      <th>ascending</th>\n",
       "      <th>interval</th>\n",
       "      <th>vctype</th>\n",
       "    </tr>\n",
       "  </thead>\n",
       "  <tbody>\n",
       "    <tr>\n",
       "      <th>0</th>\n",
       "      <td>TT</td>\n",
       "      <td>P</td>\n",
       "      <td>R1_V800_N</td>\n",
       "      <td>1102</td>\n",
       "      <td>1076</td>\n",
       "      <td>1</td>\n",
       "      <td>454803200</td>\n",
       "      <td>12000</td>\n",
       "      <td>0</td>\n",
       "      <td>0</td>\n",
       "      <td>...</td>\n",
       "      <td>10</td>\n",
       "      <td>H</td>\n",
       "      <td>0.0</td>\n",
       "      <td>100</td>\n",
       "      <td></td>\n",
       "      <td>True</td>\n",
       "      <td>True</td>\n",
       "      <td>False</td>\n",
       "      <td>None</td>\n",
       "      <td>ETA_1002</td>\n",
       "    </tr>\n",
       "    <tr>\n",
       "      <th>1</th>\n",
       "      <td>TT</td>\n",
       "      <td>P</td>\n",
       "      <td>R1_V800_N</td>\n",
       "      <td>1102</td>\n",
       "      <td>1076</td>\n",
       "      <td>1</td>\n",
       "      <td>454803200</td>\n",
       "      <td>12000</td>\n",
       "      <td>1</td>\n",
       "      <td>0</td>\n",
       "      <td>...</td>\n",
       "      <td>10</td>\n",
       "      <td>H</td>\n",
       "      <td>0.0</td>\n",
       "      <td>100</td>\n",
       "      <td></td>\n",
       "      <td>True</td>\n",
       "      <td>True</td>\n",
       "      <td>False</td>\n",
       "      <td>None</td>\n",
       "      <td>ETA_1002</td>\n",
       "    </tr>\n",
       "    <tr>\n",
       "      <th>2</th>\n",
       "      <td>TT</td>\n",
       "      <td>P</td>\n",
       "      <td>R1_V800_N</td>\n",
       "      <td>1102</td>\n",
       "      <td>1076</td>\n",
       "      <td>1</td>\n",
       "      <td>454803200</td>\n",
       "      <td>12000</td>\n",
       "      <td>2</td>\n",
       "      <td>0</td>\n",
       "      <td>...</td>\n",
       "      <td>10</td>\n",
       "      <td>H</td>\n",
       "      <td>0.0</td>\n",
       "      <td>100</td>\n",
       "      <td></td>\n",
       "      <td>True</td>\n",
       "      <td>True</td>\n",
       "      <td>False</td>\n",
       "      <td>None</td>\n",
       "      <td>ETA_1002</td>\n",
       "    </tr>\n",
       "    <tr>\n",
       "      <th>3</th>\n",
       "      <td>TT</td>\n",
       "      <td>P</td>\n",
       "      <td>R1_V800_N</td>\n",
       "      <td>1102</td>\n",
       "      <td>1076</td>\n",
       "      <td>1</td>\n",
       "      <td>454803200</td>\n",
       "      <td>12000</td>\n",
       "      <td>3</td>\n",
       "      <td>0</td>\n",
       "      <td>...</td>\n",
       "      <td>10</td>\n",
       "      <td>H</td>\n",
       "      <td>0.0</td>\n",
       "      <td>100</td>\n",
       "      <td></td>\n",
       "      <td>True</td>\n",
       "      <td>True</td>\n",
       "      <td>False</td>\n",
       "      <td>None</td>\n",
       "      <td>ETA_1002</td>\n",
       "    </tr>\n",
       "    <tr>\n",
       "      <th>4</th>\n",
       "      <td>TT</td>\n",
       "      <td>P</td>\n",
       "      <td>R1_V800_N</td>\n",
       "      <td>1102</td>\n",
       "      <td>1076</td>\n",
       "      <td>1</td>\n",
       "      <td>454803200</td>\n",
       "      <td>12000</td>\n",
       "      <td>4</td>\n",
       "      <td>0</td>\n",
       "      <td>...</td>\n",
       "      <td>10</td>\n",
       "      <td>H</td>\n",
       "      <td>0.0</td>\n",
       "      <td>100</td>\n",
       "      <td></td>\n",
       "      <td>True</td>\n",
       "      <td>True</td>\n",
       "      <td>False</td>\n",
       "      <td>None</td>\n",
       "      <td>ETA_1002</td>\n",
       "    </tr>\n",
       "    <tr>\n",
       "      <th>...</th>\n",
       "      <td>...</td>\n",
       "      <td>...</td>\n",
       "      <td>...</td>\n",
       "      <td>...</td>\n",
       "      <td>...</td>\n",
       "      <td>...</td>\n",
       "      <td>...</td>\n",
       "      <td>...</td>\n",
       "      <td>...</td>\n",
       "      <td>...</td>\n",
       "      <td>...</td>\n",
       "      <td>...</td>\n",
       "      <td>...</td>\n",
       "      <td>...</td>\n",
       "      <td>...</td>\n",
       "      <td>...</td>\n",
       "      <td>...</td>\n",
       "      <td>...</td>\n",
       "      <td>...</td>\n",
       "      <td>...</td>\n",
       "      <td>...</td>\n",
       "    </tr>\n",
       "    <tr>\n",
       "      <th>250</th>\n",
       "      <td>TT</td>\n",
       "      <td>P</td>\n",
       "      <td>R1_V800_N</td>\n",
       "      <td>1102</td>\n",
       "      <td>1076</td>\n",
       "      <td>1</td>\n",
       "      <td>454814000</td>\n",
       "      <td>12000</td>\n",
       "      <td>80</td>\n",
       "      <td>0</td>\n",
       "      <td>...</td>\n",
       "      <td>10</td>\n",
       "      <td>H</td>\n",
       "      <td>0.0</td>\n",
       "      <td>100</td>\n",
       "      <td></td>\n",
       "      <td>True</td>\n",
       "      <td>True</td>\n",
       "      <td>False</td>\n",
       "      <td>None</td>\n",
       "      <td>ETA_1002</td>\n",
       "    </tr>\n",
       "    <tr>\n",
       "      <th>251</th>\n",
       "      <td>TT</td>\n",
       "      <td>P</td>\n",
       "      <td>R1_V800_N</td>\n",
       "      <td>1102</td>\n",
       "      <td>1076</td>\n",
       "      <td>1</td>\n",
       "      <td>454814000</td>\n",
       "      <td>12000</td>\n",
       "      <td>81</td>\n",
       "      <td>0</td>\n",
       "      <td>...</td>\n",
       "      <td>10</td>\n",
       "      <td>H</td>\n",
       "      <td>0.0</td>\n",
       "      <td>100</td>\n",
       "      <td></td>\n",
       "      <td>True</td>\n",
       "      <td>True</td>\n",
       "      <td>False</td>\n",
       "      <td>None</td>\n",
       "      <td>ETA_1002</td>\n",
       "    </tr>\n",
       "    <tr>\n",
       "      <th>252</th>\n",
       "      <td>TT</td>\n",
       "      <td>P</td>\n",
       "      <td>R1_V800_N</td>\n",
       "      <td>1102</td>\n",
       "      <td>1076</td>\n",
       "      <td>1</td>\n",
       "      <td>454814000</td>\n",
       "      <td>12000</td>\n",
       "      <td>82</td>\n",
       "      <td>0</td>\n",
       "      <td>...</td>\n",
       "      <td>10</td>\n",
       "      <td>H</td>\n",
       "      <td>0.0</td>\n",
       "      <td>100</td>\n",
       "      <td></td>\n",
       "      <td>True</td>\n",
       "      <td>True</td>\n",
       "      <td>False</td>\n",
       "      <td>None</td>\n",
       "      <td>ETA_1002</td>\n",
       "    </tr>\n",
       "    <tr>\n",
       "      <th>253</th>\n",
       "      <td>TT</td>\n",
       "      <td>P</td>\n",
       "      <td>R1_V800_N</td>\n",
       "      <td>1102</td>\n",
       "      <td>1076</td>\n",
       "      <td>1</td>\n",
       "      <td>454814000</td>\n",
       "      <td>12000</td>\n",
       "      <td>83</td>\n",
       "      <td>0</td>\n",
       "      <td>...</td>\n",
       "      <td>10</td>\n",
       "      <td>H</td>\n",
       "      <td>0.0</td>\n",
       "      <td>100</td>\n",
       "      <td></td>\n",
       "      <td>True</td>\n",
       "      <td>True</td>\n",
       "      <td>False</td>\n",
       "      <td>None</td>\n",
       "      <td>ETA_1002</td>\n",
       "    </tr>\n",
       "    <tr>\n",
       "      <th>254</th>\n",
       "      <td>TT</td>\n",
       "      <td>P</td>\n",
       "      <td>R1_V800_N</td>\n",
       "      <td>1102</td>\n",
       "      <td>1076</td>\n",
       "      <td>1</td>\n",
       "      <td>454814000</td>\n",
       "      <td>12000</td>\n",
       "      <td>84</td>\n",
       "      <td>0</td>\n",
       "      <td>...</td>\n",
       "      <td>10</td>\n",
       "      <td>H</td>\n",
       "      <td>0.0</td>\n",
       "      <td>100</td>\n",
       "      <td></td>\n",
       "      <td>True</td>\n",
       "      <td>True</td>\n",
       "      <td>False</td>\n",
       "      <td>None</td>\n",
       "      <td>ETA_1002</td>\n",
       "    </tr>\n",
       "  </tbody>\n",
       "</table>\n",
       "<p>255 rows × 39 columns</p>\n",
       "</div>"
      ],
      "text/plain": [
       "    nomvar typvar     etiket    ni    nj  nk      dateo    ip1  ip2  ip3  ...  \\\n",
       "0       TT      P  R1_V800_N  1102  1076   1  454803200  12000    0    0  ...   \n",
       "1       TT      P  R1_V800_N  1102  1076   1  454803200  12000    1    0  ...   \n",
       "2       TT      P  R1_V800_N  1102  1076   1  454803200  12000    2    0  ...   \n",
       "3       TT      P  R1_V800_N  1102  1076   1  454803200  12000    3    0  ...   \n",
       "4       TT      P  R1_V800_N  1102  1076   1  454803200  12000    4    0  ...   \n",
       "..     ...    ...        ...   ...   ...  ..        ...    ...  ...  ...  ...   \n",
       "250     TT      P  R1_V800_N  1102  1076   1  454814000  12000   80    0  ...   \n",
       "251     TT      P  R1_V800_N  1102  1076   1  454814000  12000   81    0  ...   \n",
       "252     TT      P  R1_V800_N  1102  1076   1  454814000  12000   82    0  ...   \n",
       "253     TT      P  R1_V800_N  1102  1076   1  454814000  12000   83    0  ...   \n",
       "254     TT      P  R1_V800_N  1102  1076   1  454814000  12000   84    0  ...   \n",
       "\n",
       "     ip2_kind  ip2_pkind  ip3_dec  ip3_kind ip3_pkind  surface  \\\n",
       "0          10          H      0.0       100               True   \n",
       "1          10          H      0.0       100               True   \n",
       "2          10          H      0.0       100               True   \n",
       "3          10          H      0.0       100               True   \n",
       "4          10          H      0.0       100               True   \n",
       "..        ...        ...      ...       ...       ...      ...   \n",
       "250        10          H      0.0       100               True   \n",
       "251        10          H      0.0       100               True   \n",
       "252        10          H      0.0       100               True   \n",
       "253        10          H      0.0       100               True   \n",
       "254        10          H      0.0       100               True   \n",
       "\n",
       "     follow_topography  ascending  interval    vctype  \n",
       "0                 True      False      None  ETA_1002  \n",
       "1                 True      False      None  ETA_1002  \n",
       "2                 True      False      None  ETA_1002  \n",
       "3                 True      False      None  ETA_1002  \n",
       "4                 True      False      None  ETA_1002  \n",
       "..                 ...        ...       ...       ...  \n",
       "250               True      False      None  ETA_1002  \n",
       "251               True      False      None  ETA_1002  \n",
       "252               True      False      None  ETA_1002  \n",
       "253               True      False      None  ETA_1002  \n",
       "254               True      False      None  ETA_1002  \n",
       "\n",
       "[255 rows x 39 columns]"
      ]
     },
     "execution_count": 14,
     "metadata": {},
     "output_type": "execute_result"
    }
   ],
   "source": [
    "import datetime\n",
    "import glob\n",
    "from tqdm import tqdm\n",
    "import pandas as pd\n",
    "\n",
    "CMCGRIDF  = '/fs/site3/eccc/ops/cmod/prod/hubs/gridpt/dbase'\n",
    "fdate     = datetime.date.today().strftime('%Y%m%d') + '**'\n",
    "# Join various path components\n",
    "pattern  = os.path.join(CMCGRIDF, 'prog', 'regeta', fdate)\n",
    "# Return a list of paths matching a pathname pattern\n",
    "files = glob.glob(pattern)\n",
    "# Creates a dataframe of all non deleted records in an FST file, does not include data 'd'\n",
    "\n",
    "# get_basic_dataframe(path)\n",
    "# :param path: path of file to load\n",
    "# :type path: str\n",
    "# :return: dataframe of all non deleted records in an FST file\n",
    "# :rtype: pd.DataFrame\n",
    "\n",
    "#for f in tqdm(files) == progress bar\n",
    "df_list = [fstpy.get_basic_dataframe(f) for f in tqdm(files)]\n",
    "\n",
    "# create a dataframe of all files\n",
    "#Concatenate df_list along a particular axis with optional set logic along the other axes.\n",
    "df = pd.concat(df_list, ignore_index=True)\n",
    "# Adds the grid column to the dataframe.\n",
    "# The grid column is a simple identifier composed of ip1+ip2 or ig1+ig2 \n",
    "#ip1 – vertical level\n",
    "#ip2 – forecast hour\n",
    "#ig1 – first grid descriptor\n",
    "#ig2 – second grid descriptor\n",
    "df = fstpy.add_grid_column(df)\n",
    "df = fstpy.add_columns(df,['ip_info', 'datev'])\n",
    "#Access a group of rows and columns by label(s) or a boolean array.\n",
    "tt_surface_df = df.loc[(df.nomvar=='TT') & (df.surface==True)] # ???\n",
    "\n",
    "# Sort date 0f validity by labels and reset the indexes of the objects sorted\n",
    "tt_surface_df = tt_surface_df.sort_values('date_of_validity').reset_index(drop=True)\n",
    "tt_surface_df # ???"
   ]
  },
  {
   "cell_type": "markdown",
   "id": "accc9c33",
   "metadata": {},
   "source": [
    "## reorganize the data (reads all the TT)"
   ]
  },
  {
   "cell_type": "code",
   "execution_count": 16,
   "id": "98e8280b",
   "metadata": {},
   "outputs": [],
   "source": [
    "import dask.array as da\n",
    "tt_surface_df = fstpy.add_dask_column(tt_surface_df)\n",
    "\n",
    "array_3d = da.stack(tt_surface_df.d)\n",
    "column = array_3d[:,0,0]\n",
    "column = column.compute()\n",
    "orig_tt_df = pd.DataFrame({'TT [C]':column,'date_of_validity':tt_surface_df.date_of_validity})\n",
    "tt_df = orig_tt_df.set_index('date_of_validity')"
   ]
  },
  {
   "cell_type": "markdown",
   "id": "ee0de719",
   "metadata": {},
   "source": [
    "## describe the data"
   ]
  },
  {
   "cell_type": "code",
   "execution_count": 17,
   "id": "236070f7",
   "metadata": {},
   "outputs": [
    {
     "name": "stdout",
     "output_type": "stream",
     "text": [
      "           TT [C]\n",
      "count  255.000000\n",
      "mean    24.730864\n",
      "std      0.607352\n",
      "min     22.631920\n",
      "25%     24.352137\n",
      "50%     24.958469\n",
      "75%     25.179026\n",
      "max     25.645195\n"
     ]
    },
    {
     "data": {
      "text/html": [
       "<div>\n",
       "<style scoped>\n",
       "    .dataframe tbody tr th:only-of-type {\n",
       "        vertical-align: middle;\n",
       "    }\n",
       "\n",
       "    .dataframe tbody tr th {\n",
       "        vertical-align: top;\n",
       "    }\n",
       "\n",
       "    .dataframe thead th {\n",
       "        text-align: right;\n",
       "    }\n",
       "</style>\n",
       "<table border=\"1\" class=\"dataframe\">\n",
       "  <thead>\n",
       "    <tr style=\"text-align: right;\">\n",
       "      <th></th>\n",
       "      <th>TT [C]</th>\n",
       "      <th>mean</th>\n",
       "      <th>min</th>\n",
       "      <th>max</th>\n",
       "    </tr>\n",
       "    <tr>\n",
       "      <th>date_of_validity</th>\n",
       "      <th></th>\n",
       "      <th></th>\n",
       "      <th></th>\n",
       "      <th></th>\n",
       "    </tr>\n",
       "  </thead>\n",
       "  <tbody>\n",
       "    <tr>\n",
       "      <th>2022-01-12 00:00:00</th>\n",
       "      <td>25.269314</td>\n",
       "      <td>24.730864</td>\n",
       "      <td>22.63192</td>\n",
       "      <td>25.645195</td>\n",
       "    </tr>\n",
       "    <tr>\n",
       "      <th>2022-01-12 01:00:00</th>\n",
       "      <td>25.210182</td>\n",
       "      <td>24.730864</td>\n",
       "      <td>22.63192</td>\n",
       "      <td>25.645195</td>\n",
       "    </tr>\n",
       "    <tr>\n",
       "      <th>2022-01-12 02:00:00</th>\n",
       "      <td>25.285931</td>\n",
       "      <td>24.730864</td>\n",
       "      <td>22.63192</td>\n",
       "      <td>25.645195</td>\n",
       "    </tr>\n",
       "    <tr>\n",
       "      <th>2022-01-12 03:00:00</th>\n",
       "      <td>25.316601</td>\n",
       "      <td>24.730864</td>\n",
       "      <td>22.63192</td>\n",
       "      <td>25.645195</td>\n",
       "    </tr>\n",
       "    <tr>\n",
       "      <th>2022-01-12 04:00:00</th>\n",
       "      <td>25.319656</td>\n",
       "      <td>24.730864</td>\n",
       "      <td>22.63192</td>\n",
       "      <td>25.645195</td>\n",
       "    </tr>\n",
       "    <tr>\n",
       "      <th>...</th>\n",
       "      <td>...</td>\n",
       "      <td>...</td>\n",
       "      <td>...</td>\n",
       "      <td>...</td>\n",
       "    </tr>\n",
       "    <tr>\n",
       "      <th>2022-01-15 20:00:00</th>\n",
       "      <td>23.584404</td>\n",
       "      <td>24.730864</td>\n",
       "      <td>22.63192</td>\n",
       "      <td>25.645195</td>\n",
       "    </tr>\n",
       "    <tr>\n",
       "      <th>2022-01-15 21:00:00</th>\n",
       "      <td>23.145451</td>\n",
       "      <td>24.730864</td>\n",
       "      <td>22.63192</td>\n",
       "      <td>25.645195</td>\n",
       "    </tr>\n",
       "    <tr>\n",
       "      <th>2022-01-15 22:00:00</th>\n",
       "      <td>23.478134</td>\n",
       "      <td>24.730864</td>\n",
       "      <td>22.63192</td>\n",
       "      <td>25.645195</td>\n",
       "    </tr>\n",
       "    <tr>\n",
       "      <th>2022-01-15 23:00:00</th>\n",
       "      <td>24.958469</td>\n",
       "      <td>24.730864</td>\n",
       "      <td>22.63192</td>\n",
       "      <td>25.645195</td>\n",
       "    </tr>\n",
       "    <tr>\n",
       "      <th>2022-01-16 00:00:00</th>\n",
       "      <td>25.645195</td>\n",
       "      <td>24.730864</td>\n",
       "      <td>22.63192</td>\n",
       "      <td>25.645195</td>\n",
       "    </tr>\n",
       "  </tbody>\n",
       "</table>\n",
       "<p>255 rows × 4 columns</p>\n",
       "</div>"
      ],
      "text/plain": [
       "                        TT [C]       mean       min        max\n",
       "date_of_validity                                              \n",
       "2022-01-12 00:00:00  25.269314  24.730864  22.63192  25.645195\n",
       "2022-01-12 01:00:00  25.210182  24.730864  22.63192  25.645195\n",
       "2022-01-12 02:00:00  25.285931  24.730864  22.63192  25.645195\n",
       "2022-01-12 03:00:00  25.316601  24.730864  22.63192  25.645195\n",
       "2022-01-12 04:00:00  25.319656  24.730864  22.63192  25.645195\n",
       "...                        ...        ...       ...        ...\n",
       "2022-01-15 20:00:00  23.584404  24.730864  22.63192  25.645195\n",
       "2022-01-15 21:00:00  23.145451  24.730864  22.63192  25.645195\n",
       "2022-01-15 22:00:00  23.478134  24.730864  22.63192  25.645195\n",
       "2022-01-15 23:00:00  24.958469  24.730864  22.63192  25.645195\n",
       "2022-01-16 00:00:00  25.645195  24.730864  22.63192  25.645195\n",
       "\n",
       "[255 rows x 4 columns]"
      ]
     },
     "execution_count": 17,
     "metadata": {},
     "output_type": "execute_result"
    }
   ],
   "source": [
    "print(tt_df.describe())\n",
    "tt_df['mean'] = tt_df['TT [C]'].mean()\n",
    "tt_df['min'] = tt_df['TT [C]'].min()\n",
    "tt_df['max'] = tt_df['TT [C]'].max()\n",
    "tt_df"
   ]
  },
  {
   "cell_type": "code",
   "execution_count": null,
   "id": "f262c006",
   "metadata": {},
   "outputs": [],
   "source": [
    "tt_df.plot()"
   ]
  },
  {
   "cell_type": "markdown",
   "id": "27a4a546",
   "metadata": {},
   "source": [
    "## change the plot"
   ]
  },
  {
   "cell_type": "code",
   "execution_count": null,
   "id": "f6fde9cf",
   "metadata": {},
   "outputs": [],
   "source": [
    "orig_tt_df.set_index('TT [C]').plot()"
   ]
  },
  {
   "cell_type": "markdown",
   "id": "a114f9f0",
   "metadata": {},
   "source": [
    "## TT profile"
   ]
  },
  {
   "cell_type": "code",
   "execution_count": 8,
   "id": "2d6b9fd5",
   "metadata": {},
   "outputs": [
    {
     "data": {
      "text/plain": [
       "<AxesSubplot:xlabel='TT'>"
      ]
     },
     "execution_count": 8,
     "metadata": {},
     "output_type": "execute_result"
    },
    {
     "data": {
      "image/png": "[encoded data removed]",
      "text/plain": [
       "<Figure size 432x288 with 1 Axes>"
      ]
     },
     "metadata": {
      "needs_background": "light"
     },
     "output_type": "display_data"
    },
    {
     "data": {
      "image/png": "[encoded data removed]",
      "text/plain": [
       "<Figure size 432x288 with 1 Axes>"
      ]
     },
     "metadata": {
      "needs_background": "light"
     },
     "output_type": "display_data"
    }
   ],
   "source": [
    "import dask.array as da\n",
    "import fstpy.all as fstpy\n",
    "import numpy as np\n",
    "import pandas as pd\n",
    "path = '/fs/site3/eccc/cmd/w/spst900/spooki/spooki_dir/pluginsRelatedStuff/ReaderStd_WriterStd/testsFiles/source_data_5005.std'\n",
    "\n",
    "# Access to file with dask arrays in the column d so i can read them\n",
    "\n",
    "df = fstpy.StandardFileReader(path, decode_metadata=True).to_pandas()\n",
    "\n",
    "# Access  the column with numpy arrays 'd' and all the rows of the column\n",
    "tt_df = df.loc[(df.nomvar=='TT') ]\n",
    "ndf = tt_df.sort_values('level', ascending=False).reset_index(drop=True)\n",
    "array_3d = fstpy.compute(ndf)\n",
    "array_3d = np.stack(ndf.d)\n",
    "\n",
    "column = array_3d[:,0,0]\n",
    "plt_df = pd.DataFrame({'level':ndf.level,'TT':column,'0':np.zeros(column.shape)})\n",
    "plt_df.set_index('level').plot()\n",
    "plt_df.reset_index()\n",
    "plt_df.drop('0',axis=1).set_index('TT').plot()\n"
   ]
  },
  {
   "cell_type": "markdown",
   "id": "0de45d49",
   "metadata": {},
   "source": [
    "# Sqlite and Pandas"
   ]
  },
  {
   "cell_type": "code",
   "execution_count": null,
   "id": "9dc99549",
   "metadata": {},
   "outputs": [],
   "source": [
    "import sqlite3\n",
    "df = df.drop(['d','shape','interval'], axis=1, errors='ignore')\n",
    "# connect to a test DB with one three-column table titled \"Demo\"\n",
    "cnx = sqlite3.connect(':memory:')\n",
    "df.to_sql(name='std', con=cnx)\n",
    "p2 = pd.read_sql('select * from std', cnx)\n",
    "p2\n"
   ]
  },
  {
   "cell_type": "markdown",
   "id": "fdbc600c-9578-4213-8038-04f9dfe085a3",
   "metadata": {},
   "source": [
    "# Getting and manipulating the meta data"
   ]
  },
  {
   "cell_type": "code",
   "execution_count": null,
   "id": "ec54c1f7-749f-4444-b868-b5c41c5a6bfe",
   "metadata": {},
   "outputs": [],
   "source": [
    "import fstpy.all as fstpy\n",
    "import pathlib\n",
    "from datetime import datetime\n",
    "import numpy as np\n",
    "import pandas as pd"
   ]
  },
  {
   "cell_type": "markdown",
   "id": "584ba81c-5c4e-43d2-b74d-013866cb04de",
   "metadata": {},
   "source": [
    "## Method 1 - to_pandas with explicit instance"
   ]
  },
  {
   "cell_type": "code",
   "execution_count": null,
   "id": "09863dca-b8de-4502-baa7-0606988e6851",
   "metadata": {},
   "outputs": [],
   "source": [
    "std_file = fstpy.StandardFileReader('/fs/site3/eccc/cmd/w/spst900/spooki/spooki_dir/pluginsRelatedStuff/ReaderStd_WriterStd/testsFiles/source_data_5005.std')\n",
    "df = std_file.to_pandas()\n",
    "# remove d to display otherwise its slow\n",
    "cols = list(df.columns)\n",
    "cols.remove('d')\n",
    "df[cols].head(10)"
   ]
  },
  {
   "cell_type": "markdown",
   "id": "0edd885b-2717-4b32-a35a-4427ad2a1792",
   "metadata": {},
   "source": [
    "## Method 2 - to_pandas without explicit instance"
   ]
  },
  {
   "cell_type": "code",
   "execution_count": null,
   "id": "7e308e2a-25ff-4283-93b7-60700656abf7",
   "metadata": {},
   "outputs": [],
   "source": [
    "df = fstpy.StandardFileReader('/fs/site3/eccc/cmd/w/spst900/spooki/spooki_dir/pluginsRelatedStuff/ReaderStd_WriterStd/testsFiles/source_data_5005.std').to_pandas()\n",
    "# remove d to display otherwise its slow\n",
    "cols = list(df.columns)\n",
    "cols.remove('d')\n",
    "df[cols].head(10)"
   ]
  },
  {
   "cell_type": "markdown",
   "id": "33298bd5-a0ef-48a0-9c16-327af72b3e15",
   "metadata": {},
   "source": [
    "# Get a dataframe from multiple standard files"
   ]
  },
  {
   "cell_type": "code",
   "execution_count": null,
   "id": "529b4ef3-8316-4ef7-abe4-fa748ecca6c5",
   "metadata": {},
   "outputs": [],
   "source": [
    "# get files from today\n",
    "dateTimeObj = datetime.now()\n",
    "timestamp = dateTimeObj.strftime(\"%Y%m%d\")# (%H:%M:%S.%f)\")\n",
    "timestamp = ''.join([timestamp,'00'])\n",
    "\n",
    "RDPS_PATH = pathlib.Path('/fs/site3/eccc/ops/cmod/prod/hubs/suites/ops/rdps_20191231/r1/gridpt.usr/prog/eta')\n",
    "rdps_files = [f for f in RDPS_PATH.iterdir() if f.name.startswith(timestamp)]\n",
    "\n",
    "# split the results\n",
    "files = np.array_split(np.array(rdps_files),4)\n",
    "\n",
    "df = fstpy.StandardFileReader(list(files[0]),decode_metadata=True).to_pandas()\n",
    "cols = list(df.columns)\n",
    "cols.remove('d')"
   ]
  },
  {
   "cell_type": "markdown",
   "id": "2cb1967c-3972-4d6c-ae0d-e31900c20e8b",
   "metadata": {},
   "source": [
    "# See the contents of the dataframe"
   ]
  },
  {
   "cell_type": "markdown",
   "id": "9b2560a3-a5fe-400f-b595-d965be381964",
   "metadata": {},
   "source": [
    "## Show the last rows of the dataframe"
   ]
  },
  {
   "cell_type": "code",
   "execution_count": null,
   "id": "fab73a46-0da1-49c9-b5f0-7f03f4844015",
   "metadata": {},
   "outputs": [],
   "source": [
    "print(f'number of processed files: {len(list(files[0]))}')\n",
    "df[cols].tail(10)"
   ]
  },
  {
   "cell_type": "markdown",
   "id": "c8c9450c-ae22-46c9-89a7-295226790a2b",
   "metadata": {},
   "source": [
    "## Show column names of the dataframe"
   ]
  },
  {
   "cell_type": "code",
   "execution_count": null,
   "id": "3999248e-ac93-4a8e-9df1-71b552ed7b8e",
   "metadata": {},
   "outputs": [],
   "source": [
    "df.columns"
   ]
  },
  {
   "cell_type": "markdown",
   "id": "35e99e63-6be5-49eb-97c6-212036965302",
   "metadata": {},
   "source": [
    "## Show the levels contained in the dataframe"
   ]
  },
  {
   "cell_type": "code",
   "execution_count": null,
   "id": "a0cfe13e-cf25-497f-bc99-44d09aa9fff1",
   "metadata": {},
   "outputs": [],
   "source": [
    "df.level"
   ]
  },
  {
   "cell_type": "markdown",
   "id": "959c754d-eea0-4829-a6d8-a90cc3d74751",
   "metadata": {},
   "source": [
    "## Show the unique levels contained in the dataframe"
   ]
  },
  {
   "cell_type": "code",
   "execution_count": null,
   "id": "5b06db37-9265-4a3b-8ccf-df03e19d8656",
   "metadata": {},
   "outputs": [],
   "source": [
    "df.level.unique()"
   ]
  },
  {
   "cell_type": "markdown",
   "id": "146fbb2b-9110-4788-9870-fb6ee64681cf",
   "metadata": {},
   "source": [
    "## Show a subset of columns of the dataframe"
   ]
  },
  {
   "cell_type": "code",
   "execution_count": null,
   "id": "be3b5e80-b571-4d72-8fe5-162d77669e80",
   "metadata": {},
   "outputs": [],
   "source": [
    "df[['nomvar','typvar','etiket','ni','nj','nk','dateo','ip1','ip2','ip3']]"
   ]
  },
  {
   "cell_type": "markdown",
   "id": "56d7829e-336a-4dbc-b5b7-b0268a59d821",
   "metadata": {},
   "source": [
    "## Show a voir like output of the dataframe"
   ]
  },
  {
   "cell_type": "code",
   "execution_count": null,
   "id": "ca686a25-7706-449e-9cab-79ffda41b914",
   "metadata": {},
   "outputs": [],
   "source": [
    "fstpy.voir(df.head(10))"
   ]
  },
  {
   "cell_type": "markdown",
   "id": "3e2e8b81-4cd3-43ba-8056-1a8b78f30b24",
   "metadata": {},
   "source": [
    "# Select sub-sets of data"
   ]
  },
  {
   "cell_type": "markdown",
   "id": "21c582bf-2967-4b09-b015-db8191931d87",
   "metadata": {},
   "source": [
    "## Select TT with query method"
   ]
  },
  {
   "cell_type": "code",
   "execution_count": null,
   "id": "5212e385-2cef-40ca-9ee5-42b4004e1498",
   "metadata": {},
   "outputs": [],
   "source": [
    "sel_tt_df = df.query('nomvar==\"TT\"')\n",
    "sel_tt_df.head(10)"
   ]
  },
  {
   "cell_type": "markdown",
   "id": "a39c489e-9ef3-4eff-8bc1-e12a3c89115e",
   "metadata": {},
   "source": [
    "## Select TT with loc method - more efficient"
   ]
  },
  {
   "cell_type": "code",
   "execution_count": null,
   "id": "31e9359e-4937-496a-b434-bd0124e1bbae",
   "metadata": {},
   "outputs": [],
   "source": [
    "sel_tt_df = df.loc[df.nomvar==\"TT\"]\n",
    "sel_tt_df.head(10)"
   ]
  },
  {
   "cell_type": "markdown",
   "id": "88a5aaa8-afc4-44ab-a668-69a1895058d5",
   "metadata": {},
   "source": [
    "## Select multiple fields"
   ]
  },
  {
   "cell_type": "code",
   "execution_count": null,
   "id": "552d8da2-d093-45d3-b96f-3498348336ce",
   "metadata": {},
   "outputs": [],
   "source": [
    "sel_uuvv_df = df.loc[df.nomvar.isin([\"UU\",\"VV\"])]\n",
    "sel_uuvv_df.head(10)"
   ]
  },
  {
   "cell_type": "markdown",
   "id": "aa75d68f-c309-48ac-8214-462db62b6533",
   "metadata": {},
   "source": [
    "## Select multiple fields with more than one condition"
   ]
  },
  {
   "cell_type": "code",
   "execution_count": null,
   "id": "bdb44055-1d07-4172-b6d2-9855f0ce25bf",
   "metadata": {},
   "outputs": [],
   "source": [
    "sel_uuvv6_df = df.loc[(df.nomvar.isin([\"UU\",\"VV\"])) & (df.ip2==6)]\n",
    "sel_uuvv6_df.tail(10)"
   ]
  },
  {
   "cell_type": "markdown",
   "id": "78ab3977-c5a7-4453-af0e-e9a616d8f83a",
   "metadata": {},
   "source": [
    "## Selecting by date range"
   ]
  },
  {
   "cell_type": "code",
   "execution_count": null,
   "id": "02f278a8-b01b-401e-ac54-0c55bfdbd37c",
   "metadata": {},
   "outputs": [],
   "source": [
    "# define a start and end date\n",
    "start_date = datetime(dateTimeObj.year,dateTimeObj.month,dateTimeObj.day)\n",
    "end_date = datetime(dateTimeObj.year,dateTimeObj.month,dateTimeObj.day+1,23)\n",
    "print(f'dates between {start_date} and {end_date}')\n",
    "df.loc[df.date_of_validity.between(start_date, end_date, inclusive=True)]"
   ]
  },
  {
   "cell_type": "markdown",
   "id": "66fc866b-9d0a-43e8-b397-f63fdb1c00ee",
   "metadata": {},
   "source": [
    "# Modify meta data"
   ]
  },
  {
   "cell_type": "markdown",
   "id": "a9a4143f-600d-4e79-9780-55686b382024",
   "metadata": {},
   "source": [
    "## Change nomvar from TT to TTI"
   ]
  },
  {
   "cell_type": "code",
   "execution_count": null,
   "id": "ec066ebb-bbef-49c4-a3c7-837157f24aeb",
   "metadata": {},
   "outputs": [],
   "source": [
    "df.loc[df.nomvar=='TT','nomvar'] = 'TTI'\n",
    "print(df.loc[df.nomvar=='TTI'])\n",
    "# rename again\n",
    "df.loc[df.nomvar=='TTI','nomvar'] = 'TT'"
   ]
  },
  {
   "cell_type": "markdown",
   "id": "831bcdc3-d506-4cef-9f69-28b76e357b63",
   "metadata": {},
   "source": [
    "# Reformatting meta data for other types or structures"
   ]
  },
  {
   "cell_type": "markdown",
   "id": "a9813cc7-68aa-4724-b42f-7c8c7efa3505",
   "metadata": {},
   "source": [
    "## Changind the column names"
   ]
  },
  {
   "cell_type": "code",
   "execution_count": null,
   "id": "3f735046-78cf-49b0-8b55-b51c9285b815",
   "metadata": {},
   "outputs": [],
   "source": [
    "translation = {'nomvar':'fieldName','etiket':'pdsLabel','dateo':'dateOfObservation'}\n",
    "new_df = df.rename(columns=translation)\n",
    "cols = list(new_df.columns)\n",
    "cols.remove('d')\n",
    "new_df[cols]"
   ]
  },
  {
   "cell_type": "markdown",
   "id": "9a410011-ee18-4b12-a18c-91607bd3024f",
   "metadata": {},
   "source": [
    "# Working with data"
   ]
  },
  {
   "cell_type": "markdown",
   "id": "262cc0f6-c4e6-45b8-ba6c-2fadf34261db",
   "metadata": {},
   "source": [
    "## Getting the associated data for each record in the dataframe"
   ]
  },
  {
   "cell_type": "code",
   "execution_count": null,
   "id": "a1e525cb-64dc-4a77-86ae-84aff26ce1f4",
   "metadata": {},
   "outputs": [],
   "source": [
    "uu_df = df.loc[(df.nomvar==\"UU\") & (df.surface==True)]\n",
    "vv_df = df.loc[(df.nomvar==\"VV\") & (df.surface==True)]\n",
    "\n",
    "uu_data_df = fstpy.compute(uu_df)\n",
    "\n",
    "cols = ['nomvar','ni','nj','nk','dateo','ip1','ip2','ip3','d']\n",
    "\n",
    "print(uu_data_df[cols])\n"
   ]
  },
  {
   "cell_type": "markdown",
   "id": "eb8d556b-c558-4c4f-9c0a-81287b4f3be6",
   "metadata": {},
   "source": [
    "# Performing simple calculations"
   ]
  },
  {
   "cell_type": "markdown",
   "id": "076935be-8479-4133-9b5e-fe0a9a8d6d4e",
   "metadata": {},
   "source": [
    "## Wind Modulus"
   ]
  },
  {
   "cell_type": "markdown",
   "id": "f96fbefa-6402-4267-9d18-95ebc97a161d",
   "metadata": {},
   "source": [
    "### Create a record to hold the result"
   ]
  },
  {
   "cell_type": "code",
   "execution_count": null,
   "id": "c1bac98e-27e0-4610-a8ab-f990d213b247",
   "metadata": {},
   "outputs": [],
   "source": [
    "uv_df = vv_df.copy(deep=True)"
   ]
  },
  {
   "cell_type": "markdown",
   "id": "f824bad8-9340-4b37-b543-e7250990a919",
   "metadata": {},
   "source": [
    "### Get a fresh index starting from 0 and change the nomvar accordingly"
   ]
  },
  {
   "cell_type": "code",
   "execution_count": null,
   "id": "a1cf0cba-af73-406f-9551-ba87ae12420d",
   "metadata": {},
   "outputs": [],
   "source": [
    "uv_df = uv_df.reset_index(drop=True)\n",
    "uv_df.loc[:,'nomvar']='UV'"
   ]
  },
  {
   "cell_type": "markdown",
   "id": "4618b79c-f99e-473d-af5a-e6f7997177f6",
   "metadata": {},
   "source": [
    "### Get the first rows for uu and vv"
   ]
  },
  {
   "cell_type": "code",
   "execution_count": null,
   "id": "067e7392-ddc0-4a93-8248-96f890cf08ea",
   "metadata": {},
   "outputs": [],
   "source": [
    "uu = (uu_df.iloc[0]['d'])\n",
    "vv = (vv_df.iloc[0]['d'])"
   ]
  },
  {
   "cell_type": "markdown",
   "id": "5b53590b-9761-4639-be5b-76e559795709",
   "metadata": {},
   "source": [
    "### The algorithm, after this uv_df contains our result for the wind modulus in knots"
   ]
  },
  {
   "cell_type": "code",
   "execution_count": null,
   "id": "1e39d4e0-256e-4b5e-a88b-989527dd1367",
   "metadata": {},
   "outputs": [],
   "source": [
    "uv = (uu**2 + vv**2)**.5\n",
    "# store the result in the dataframe\n",
    "uv_df.at[0,'d'] = uv\n",
    "print('UU\\n',uu.compute())\n",
    "print('VV\\n',vv.compute())"
   ]
  },
  {
   "cell_type": "markdown",
   "id": "e3304f13-25df-4174-8729-9d6745413ce8",
   "metadata": {},
   "source": [
    "### Visualize dask operations"
   ]
  },
  {
   "cell_type": "code",
   "execution_count": null,
   "id": "2da1923e-dc83-4aff-a13b-121cf2df5d65",
   "metadata": {},
   "outputs": [],
   "source": [
    "uv_df.iloc[0]['d'].visualize()"
   ]
  },
  {
   "cell_type": "code",
   "execution_count": null,
   "id": "36112d9f-f77b-4661-8a87-37f17336c084",
   "metadata": {},
   "outputs": [],
   "source": [
    "print('UV\\n',uv_df.iloc[0]['d'].compute())"
   ]
  },
  {
   "cell_type": "code",
   "execution_count": null,
   "id": "ce10553a-e04f-4281-b015-8464b48da21c",
   "metadata": {},
   "outputs": [],
   "source": [
    "# internal structure of the dask array\n",
    "uv_df.iloc[0]['d']"
   ]
  },
  {
   "cell_type": "markdown",
   "id": "60c087f4-4182-4e25-b2aa-d87c81cdbfad",
   "metadata": {},
   "source": [
    "## Wind Chill"
   ]
  },
  {
   "cell_type": "code",
   "execution_count": null,
   "id": "59883480-e21e-48b6-bfc5-de34195d650d",
   "metadata": {},
   "outputs": [],
   "source": [
    "tt_df = df.loc[(df.nomvar==\"TT\") & (df.surface==True)]"
   ]
  },
  {
   "cell_type": "markdown",
   "id": "0ba4d880-9773-4368-ac9d-156cb4f19550",
   "metadata": {},
   "source": [
    "### Create a record to hold wind chill reseult and change the nomvar"
   ]
  },
  {
   "cell_type": "code",
   "execution_count": null,
   "id": "653d5b51-93ef-4bbe-aeb4-c18f0e27671c",
   "metadata": {},
   "outputs": [],
   "source": [
    "re_df = uv_df.copy(deep=True)\n",
    "re_df['nomvar']='RE'"
   ]
  },
  {
   "cell_type": "markdown",
   "id": "aa3a6cb9-139d-4a97-88d1-f9a29ca08016",
   "metadata": {},
   "source": [
    "### The algorithm, after this re_df contains our result for the wind chill"
   ]
  },
  {
   "cell_type": "code",
   "execution_count": null,
   "id": "9ef7e58f-09f1-4b66-84e1-8c2e9fdd0eaa",
   "metadata": {},
   "outputs": [],
   "source": [
    "tt = (tt_df.iloc[0]['d'])\n",
    "uv = (uv_df.iloc[0]['d'])"
   ]
  },
  {
   "cell_type": "code",
   "execution_count": null,
   "id": "58fe92cb-bfd9-490c-a7ea-a65bd26d8a3c",
   "metadata": {},
   "outputs": [],
   "source": [
    "# if (tt <= 0) & (uv >= 5) then\n",
    "#    re = 13.12 + 0.6215 * tt + ( 0.3965 * tt - 11.37) * ( uv**0.16 )\n",
    "# else\n",
    "#    re = tt\n",
    "re_df.at[0,'d'] = np.where( (tt <= 0) & (uv >= 5), 13.12 + 0.6215 * tt + ( 0.3965 * tt - 11.37) * ( uv**0.16 ), tt)\n",
    "print('TT\\n',tt.compute())"
   ]
  },
  {
   "cell_type": "markdown",
   "id": "8fe19545-3dce-4879-a275-b65ec6925e82",
   "metadata": {},
   "source": [
    "### Visualize dask operations"
   ]
  },
  {
   "cell_type": "code",
   "execution_count": null,
   "id": "ae80d1af-3663-4a19-b8ea-12e02ca965a1",
   "metadata": {},
   "outputs": [],
   "source": [
    "re_df.iloc[0]['d'].visualize()"
   ]
  },
  {
   "cell_type": "code",
   "execution_count": null,
   "id": "dfb7bd67-ce2d-456a-86c7-6e46f4732bb0",
   "metadata": {},
   "outputs": [],
   "source": [
    "print('RE\\n',re_df.iloc[0]['d'].compute())"
   ]
  },
  {
   "cell_type": "markdown",
   "id": "3c3f5f79-5684-4074-b128-fd876f99fb83",
   "metadata": {},
   "source": [
    "## Basic statistics for TT records"
   ]
  },
  {
   "cell_type": "markdown",
   "id": "19ca99c8-b963-44f7-816f-0711059857a0",
   "metadata": {},
   "source": [
    "### Create a function to compute statistics"
   ]
  },
  {
   "cell_type": "code",
   "execution_count": null,
   "id": "e639bd60-47f4-4fca-acb1-b10e15da0f40",
   "metadata": {},
   "outputs": [],
   "source": [
    "def compute_basic_stats(df:pd.DataFrame) -> pd.DataFrame:\n",
    "    \"\"\" compute for each row in a datarfame, min, max, mean, standard_deviation and the 2d indice of min and max\n",
    "\n",
    "    :param df: input dataframe\n",
    "    :type df: pd.DataFrame\n",
    "    :return: output dataframe with extra columns\n",
    "    :rtype: pd.DataFrame\n",
    "    \"\"\"\n",
    "    df = fstpy.compute(df)\n",
    "    df['min']=None\n",
    "    df['max']=None\n",
    "    df['mean']=None\n",
    "    df['std']=None\n",
    "    df['min_pos']=None\n",
    "    df['max_pos']=None\n",
    "    for i in df.index:\n",
    "        df.at[i,'mean'] = df.loc[i,'d'].mean()\n",
    "        df.at[i,'std'] = df.loc[i,'d'].std()\n",
    "        df.at[i,'min'] = df.loc[i,'d'].min()\n",
    "        df.at[i,'max'] = df.loc[i,'d'].max()\n",
    "        # index (i,j) of min in record\n",
    "        df.at[i,'min_pos'] = np.unravel_index(df.at[i,'d'].argmin(), (df.at[i,'ni'],df.at[i,'nj']))\n",
    "        df.at[i,'min_pos'] = (df.at[i,'min_pos'][0] + 1, df.at[i,'min_pos'][1]+1)\n",
    "        # index (i,j) of max in record\n",
    "        df.at[i,'max_pos'] = np.unravel_index(df.at[i,'d'].argmax(), (df.at[i,'ni'],df.at[i,'nj']))\n",
    "        df.at[i,'max_pos'] = (df.at[i,'max_pos'][0] + 1, df.at[i,'max_pos'][1]+1)\n",
    "    return df"
   ]
  },
  {
   "cell_type": "code",
   "execution_count": null,
   "id": "84a1f33c-3cad-4ca4-a970-3ae57d54005e",
   "metadata": {},
   "outputs": [],
   "source": [
    "new_df = compute_basic_stats(tt_df)\n",
    "new_df"
   ]
  },
  {
   "cell_type": "markdown",
   "id": "80005361-c682-4c0e-a1b1-fd704dbe9f83",
   "metadata": {},
   "source": [
    "## Basic statistics for each column of 3d matrix"
   ]
  },
  {
   "cell_type": "code",
   "execution_count": null,
   "id": "131ef28d-e3fb-4f66-830a-d2d859e9888b",
   "metadata": {},
   "outputs": [],
   "source": [
    "tt3d_df = df.loc[(df.nomvar=='TT') & (df.ip2==np.sort(df.ip2.unique())[0])].reset_index(drop=True)\n",
    "# sort by level and reset index\n",
    "tt3d_df = tt3d_df.sort_values(by='level',ascending=tt3d_df.iloc[0]['ascending']).reset_index(drop=True)\n",
    "tt3d_df"
   ]
  },
  {
   "cell_type": "markdown",
   "id": "c4c13dfa-aa2f-42cd-bc1d-8f49669e46b9",
   "metadata": {},
   "source": [
    "### Use an xarray for 3d operations"
   ]
  },
  {
   "cell_type": "code",
   "execution_count": null,
   "id": "57d71aa5-1759-4b68-854c-0b9b4588bef6",
   "metadata": {},
   "outputs": [],
   "source": [
    "tt_ds = fstpy.to_cmc_xarray(tt3d_df)\n",
    "tt_ds"
   ]
  },
  {
   "cell_type": "code",
   "execution_count": null,
   "id": "1ed7e029-22ec-4ff6-93bd-3fde84f9df71",
   "metadata": {},
   "outputs": [],
   "source": [
    "tt_ds.TT"
   ]
  },
  {
   "cell_type": "markdown",
   "id": "8d329ec3-8c15-4df3-a74e-bd6b78b07b2c",
   "metadata": {},
   "source": [
    "### Compute the stats for each column"
   ]
  },
  {
   "cell_type": "code",
   "execution_count": null,
   "id": "9e292f7c-a889-4fed-ade7-c6a9652d266e",
   "metadata": {},
   "outputs": [],
   "source": [
    "tt_min = tt_ds.TT.min(dim='level')\n",
    "tt_max = tt_ds.TT.max(dim='level')\n",
    "tt_std = tt_ds.TT.std(dim='level')\n",
    "tt_mean = tt_ds.TT.mean(dim='level')"
   ]
  },
  {
   "cell_type": "markdown",
   "id": "20929b95-36bf-44e2-b54a-b8d878a5e2c6",
   "metadata": {},
   "source": [
    "### Create containers for our results"
   ]
  },
  {
   "cell_type": "code",
   "execution_count": null,
   "id": "61769f9a-ebd5-4928-b139-9e667e8c4664",
   "metadata": {},
   "outputs": [],
   "source": [
    "# creates a 1 row dataframe based on a model dataframe\n",
    "def create_result_df(df:pd.DataFrame, nomvar:str, operation_name:str) ->  pd.DataFrame:\n",
    "   res_df = pd.DataFrame([df.iloc[0].to_dict()])\n",
    "   res_df['nomvar']=nomvar\n",
    "   res_df['etiket']=operation_name\n",
    "   return res_df\n",
    "\n",
    "min_df = create_result_df(tt_df,'MIN','MINIMUM')\n",
    "max_df = create_result_df(tt_df,'MAX','MAXIMUM')\n",
    "std_df = create_result_df(tt_df,'STD','STDDEV')\n",
    "mean_df = create_result_df(tt_df,'MEAN','AVERAGE')"
   ]
  },
  {
   "cell_type": "markdown",
   "id": "409f5d4a-db79-487f-a6fd-24065f89b86a",
   "metadata": {},
   "source": [
    "### Assign resulting arrays to the dataframes"
   ]
  },
  {
   "cell_type": "code",
   "execution_count": null,
   "id": "feef1479-d817-4549-b31d-6ac9a4bd7923",
   "metadata": {},
   "outputs": [],
   "source": [
    "# .at gets the row at index in a dataframe, we have 1 row dataframes in each case and our arrays are simple 2d result arrays \n",
    "min_df.at[0,'d'] = tt_min.values\n",
    "max_df.at[0,'d'] = tt_max.values \n",
    "std_df.at[0,'d'] = tt_std.values \n",
    "mean_df.at[0,'d'] = tt_mean.values "
   ]
  },
  {
   "cell_type": "markdown",
   "id": "8819c3cb-e9de-46ba-a90a-c1df51930ad7",
   "metadata": {},
   "source": [
    "### Combine all results into a single dataframe"
   ]
  },
  {
   "cell_type": "code",
   "execution_count": null,
   "id": "e521e2ec-d44a-4a8f-a8c5-72903516bd12",
   "metadata": {},
   "outputs": [],
   "source": [
    "res_df = pd.concat([min_df,max_df,std_df,mean_df],ignore_index=True)\n",
    "res_df[['nomvar','etiket','d']]"
   ]
  },
  {
   "cell_type": "markdown",
   "id": "59238995-9466-40e9-90fe-27ba919386d4",
   "metadata": {},
   "source": [
    "# Grouping data"
   ]
  },
  {
   "cell_type": "markdown",
   "id": "3e26d43c-bed1-4a5f-9995-32234f1b6f70",
   "metadata": {},
   "source": [
    "## Grouping data by grid, the usual case when you have multiple grids in a dataframe"
   ]
  },
  {
   "cell_type": "code",
   "execution_count": null,
   "id": "03fd42d7-d45f-4b0e-b9dc-66158055ce09",
   "metadata": {},
   "outputs": [],
   "source": [
    "grid_groups = df.groupby(by=['grid'])\n",
    "\n",
    "for grid,grid_df in grid_groups:\n",
    "    print(f'grid: {grid}')\n",
    "    print(grid_df[['nomvar','etiket','ni','nj','nk','dateo','ip1','ip2','ip3']])"
   ]
  },
  {
   "cell_type": "markdown",
   "id": "dab2478a-6bc4-44da-8ea9-1d915ef1e56a",
   "metadata": {},
   "source": [
    "## Grouping data by forecast hour, the usual case when you have multiple forecast hours per grid in a dataframe"
   ]
  },
  {
   "cell_type": "code",
   "execution_count": null,
   "id": "1efee295-050c-478d-b19a-ecdd84726f0f",
   "metadata": {},
   "outputs": [],
   "source": [
    "forecast_hour_groups = df.loc[df.nomvar=='TT'].groupby(by=['grid','forecast_hour'])\n",
    "\n",
    "for (grid,fhour),forecast_hour_df in forecast_hour_groups:\n",
    "    print(f'grid: {grid} forecast_hour: {fhour}')\n",
    "    print(forecast_hour_df.head(2)[['nomvar','etiket','ni','nj','nk','dateo','ip1','ip2','ip3']])"
   ]
  },
  {
   "cell_type": "markdown",
   "id": "fbaa64ff-086e-4b81-9232-f0bec72c0700",
   "metadata": {},
   "source": [
    "## Grouping data by level, the usual case when you have multiple levels per grid in a dataframe"
   ]
  },
  {
   "cell_type": "code",
   "execution_count": null,
   "id": "afc5c5a1-2747-4f52-ab24-3369fcf90208",
   "metadata": {},
   "outputs": [],
   "source": [
    "levels_groups = df.loc[df.nomvar=='UU'].groupby(by=['grid','level'])\n",
    "\n",
    "for (grid,level),level_df in levels_groups:\n",
    "    print(f'grid: {grid} level: {level}')\n",
    "    print(level_df.head(2)[['nomvar','etiket','ni','nj','nk','dateo','ip1','ip2','ip3']])"
   ]
  },
  {
   "cell_type": "markdown",
   "id": "7464345b-182b-40ed-b3bb-f5e58ad40463",
   "metadata": {},
   "source": [
    "# Exporting the data"
   ]
  },
  {
   "cell_type": "markdown",
   "id": "c1d0f8c6-fd3e-4b5e-888f-bc1136092c20",
   "metadata": {},
   "source": [
    "## To standardfile "
   ]
  },
  {
   "cell_type": "code",
   "execution_count": null,
   "id": "cd37ba8f-addc-4696-8dda-4b806c620fca",
   "metadata": {},
   "outputs": [],
   "source": [
    "from os import getenv\n",
    "import fstpy.all as fstpy\n",
    "df = fstpy.StandardFileReader('/fs/site3/eccc/cmd/w/spst900/spooki/spooki_dir/pluginsRelatedStuff/ReaderStd_WriterStd/testsFiles/source_data_5005.std').to_pandas()\n",
    "tt_df = df.loc[df.nomvar=='TT']\n",
    "user = getenv(\"USER\")\n",
    "file = f'/tmp/{user}/TT.std'\n",
    "fstpy.delete_file(file)\n",
    "fstpy.StandardFileWriter(file, tt_df).to_fst()"
   ]
  },
  {
   "cell_type": "markdown",
   "id": "9238ccc0-5efc-4f80-9ca8-efab8ae0c531",
   "metadata": {},
   "source": [
    "### Check the file"
   ]
  },
  {
   "cell_type": "code",
   "execution_count": null,
   "id": "a8b46e0a-c740-42ba-b0f9-88e433a2d06e",
   "metadata": {},
   "outputs": [],
   "source": [
    "df = fstpy.StandardFileReader(file).to_pandas()\n",
    "cols = list(df.columns)\n",
    "cols.remove('d')\n",
    "df[cols]"
   ]
  },
  {
   "cell_type": "markdown",
   "id": "7a2a2f26-358b-4048-b3c6-d847ab98f43e",
   "metadata": {},
   "source": [
    "## To pickle"
   ]
  },
  {
   "cell_type": "code",
   "execution_count": null,
   "id": "39534c2c-cd21-4f26-b939-1e758f21791d",
   "metadata": {},
   "outputs": [],
   "source": [
    "pickle_file = f'/home/{user}/pickle_data.pkl.bz2'\n",
    "fstpy.delete_file(pickle_file)\n",
    "df.to_pickle(pickle_file)"
   ]
  },
  {
   "cell_type": "markdown",
   "id": "071e63a0-28da-454e-b016-78f2c6678a07",
   "metadata": {},
   "source": [
    "### Check the file"
   ]
  },
  {
   "cell_type": "code",
   "execution_count": null,
   "id": "fe9d78d4-a581-4f95-b575-976776f1cd26",
   "metadata": {},
   "outputs": [],
   "source": [
    "df = pd.read_pickle(pickle_file)\n",
    "df"
   ]
  },
  {
   "cell_type": "code",
   "execution_count": null,
   "id": "8feff197-30cd-4c67-9710-9d4d2b281eff",
   "metadata": {},
   "outputs": [],
   "source": [
    "df = fstpy.compute(df)\n",
    "df"
   ]
  }
 ],
 "metadata": {
  "interpreter": {
   "hash": "5d30657c2dbd1cbb51e7376e0bd3558cf73735189708423b5594cdc55d2f21fd"
  },
  "kernelspec": {
   "display_name": "Fortran",
   "language": "python",
   "name": "python3"
  },
  "language_info": {
   "codemirror_mode": {
    "name": "ipython",
    "version": 3
   },
   "file_extension": ".py",
   "mimetype": "text/x-python",
   "name": "python",
   "nbconvert_exporter": "python",
   "pygments_lexer": "ipython3",
   "version": "3.8.1"
  }
 },
 "nbformat": 4,
 "nbformat_minor": 5
}
