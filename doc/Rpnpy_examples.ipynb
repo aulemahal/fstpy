{
 "cells": [
  {
   "cell_type": "markdown",
   "metadata": {},
   "source": [
    "# Do some setup"
   ]
  },
  {
   "cell_type": "code",
   "execution_count": 3,
   "metadata": {},
   "outputs": [],
   "source": [
    "import fstpy.all as fstpy\n",
    "CMCGRIDF  = '/fs/site3/eccc/ops/cmod/prod/hubs/gridpt/dbase'\n",
    "ATM_MODEL_DFILES = '/fs/ssm/eccc/mrd/rpn/MIG/GEM/d/gem-data/gem-data_4.2.0/gem-data_4.2.0_all/share/data/dfiles'"
   ]
  },
  {
   "cell_type": "markdown",
   "metadata": {},
   "source": [
    "# Usage examples\n",
    "[Python-RPN Example](https://wiki.cmc.ec.gc.ca/wiki/Python-RPN/2.1/examples)\n",
    "## Setup our files\n",
    "This is external to the library because python can manage that better"
   ]
  },
  {
   "cell_type": "code",
   "execution_count": 9,
   "metadata": {},
   "outputs": [
    {
     "data": {
      "text/plain": [
       "['/fs/ssm/eccc/mrd/rpn/MIG/GEM/d/gem-data/gem-data_4.2.0/gem-data_4.2.0_all/share/data/dfiles/bcmk/2009042700_000',\n",
       " '/fs/ssm/eccc/mrd/rpn/MIG/GEM/d/gem-data/gem-data_4.2.0/gem-data_4.2.0_all/share/data/dfiles/bcmk/geophy.fst',\n",
       " '/fs/ssm/eccc/mrd/rpn/MIG/GEM/d/gem-data/gem-data_4.2.0/gem-data_4.2.0_all/share/data/dfiles/bcmk/clim_gemdm320_1080x540_v2_de_francois_withiceline',\n",
       " '/fs/ssm/eccc/mrd/rpn/MIG/GEM/d/gem-data/gem-data_4.2.0/gem-data_4.2.0_all/share/data/dfiles/bcmk/climato',\n",
       " '/fs/ssm/eccc/mrd/rpn/MIG/GEM/d/gem-data/gem-data_4.2.0/gem-data_4.2.0_all/share/data/dfiles/bcmk/clim_gemdm_2018',\n",
       " '/fs/ssm/eccc/mrd/rpn/MIG/GEM/d/gem-data/gem-data_4.2.0/gem-data_4.2.0_all/share/data/dfiles/bcmk/climato-old',\n",
       " '/fs/ssm/eccc/mrd/rpn/MIG/GEM/d/gem-data/gem-data_4.2.0/gem-data_4.2.0_all/share/data/dfiles/bcmk/clim_gemdm320_1080x540_v2_de_francois_withiceline_i8_glorys1v1.0_corr_EMIB',\n",
       " '/fs/ssm/eccc/mrd/rpn/MIG/GEM/d/gem-data/gem-data_4.2.0/gem-data_4.2.0_all/share/data/dfiles/bcmk/2009042700_012']"
      ]
     },
     "execution_count": 9,
     "metadata": {},
     "output_type": "execute_result"
    }
   ],
   "source": [
    "# Open all RPNStd files in the $ATM_MODEL_DFILES/bcmk/ directory\n",
    "directory = os.path.join(ATM_MODEL_DFILES, 'bcmk' , '**')\n",
    "files = glob.glob(directory)\n",
    "files = [f for f in files if fstpy.maybeFST(f)]\n",
    "files"
   ]
  },
  {
   "cell_type": "markdown",
   "metadata": {},
   "source": [
    "# Queries\n",
    "## This example shows how to\n",
    "\n",
    "- get the list of all records matching selection criteria\n",
    "- get the metadata and decode it\n",
    "- then print some values "
   ]
  },
  {
   "cell_type": "code",
   "execution_count": 10,
   "metadata": {},
   "outputs": [
    {
     "name": "stderr",
     "output_type": "stream",
     "text": [
      "WARNING:root:Found duplicate rows in dataframe!\n"
     ]
    },
    {
     "data": {
      "text/html": [
       "<div>\n",
       "<style scoped>\n",
       "    .dataframe tbody tr th:only-of-type {\n",
       "        vertical-align: middle;\n",
       "    }\n",
       "\n",
       "    .dataframe tbody tr th {\n",
       "        vertical-align: top;\n",
       "    }\n",
       "\n",
       "    .dataframe thead th {\n",
       "        text-align: right;\n",
       "    }\n",
       "</style>\n",
       "<table border=\"1\" class=\"dataframe\">\n",
       "  <thead>\n",
       "    <tr style=\"text-align: right;\">\n",
       "      <th></th>\n",
       "      <th>nomvar</th>\n",
       "      <th>ip1</th>\n",
       "      <th>ip2</th>\n",
       "      <th>date_of_observation</th>\n",
       "      <th>date_of_validity</th>\n",
       "      <th>forecast_hour</th>\n",
       "    </tr>\n",
       "  </thead>\n",
       "  <tbody>\n",
       "    <tr>\n",
       "      <th>0</th>\n",
       "      <td>P0</td>\n",
       "      <td>0</td>\n",
       "      <td>12</td>\n",
       "      <td>2009-04-27</td>\n",
       "      <td>2009-04-27 12:00:00</td>\n",
       "      <td>0 days 12:00:00</td>\n",
       "    </tr>\n",
       "    <tr>\n",
       "      <th>1</th>\n",
       "      <td>PN</td>\n",
       "      <td>0</td>\n",
       "      <td>12</td>\n",
       "      <td>2009-04-27</td>\n",
       "      <td>2009-04-27 12:00:00</td>\n",
       "      <td>0 days 12:00:00</td>\n",
       "    </tr>\n",
       "    <tr>\n",
       "      <th>2</th>\n",
       "      <td>HY</td>\n",
       "      <td>44140192</td>\n",
       "      <td>0</td>\n",
       "      <td>2009-04-27</td>\n",
       "      <td>2009-04-27 12:00:00</td>\n",
       "      <td>0 days 12:00:00</td>\n",
       "    </tr>\n",
       "    <tr>\n",
       "      <th>3</th>\n",
       "      <td>TT</td>\n",
       "      <td>97642568</td>\n",
       "      <td>12</td>\n",
       "      <td>2009-04-27</td>\n",
       "      <td>2009-04-27 12:00:00</td>\n",
       "      <td>0 days 12:00:00</td>\n",
       "    </tr>\n",
       "    <tr>\n",
       "      <th>4</th>\n",
       "      <td>TT</td>\n",
       "      <td>97738568</td>\n",
       "      <td>12</td>\n",
       "      <td>2009-04-27</td>\n",
       "      <td>2009-04-27 12:00:00</td>\n",
       "      <td>0 days 12:00:00</td>\n",
       "    </tr>\n",
       "    <tr>\n",
       "      <th>...</th>\n",
       "      <td>...</td>\n",
       "      <td>...</td>\n",
       "      <td>...</td>\n",
       "      <td>...</td>\n",
       "      <td>...</td>\n",
       "      <td>...</td>\n",
       "    </tr>\n",
       "    <tr>\n",
       "      <th>78</th>\n",
       "      <td>TT</td>\n",
       "      <td>95332840</td>\n",
       "      <td>12</td>\n",
       "      <td>2009-04-27</td>\n",
       "      <td>2009-04-27 12:00:00</td>\n",
       "      <td>0 days 12:00:00</td>\n",
       "    </tr>\n",
       "    <tr>\n",
       "      <th>79</th>\n",
       "      <td>TT</td>\n",
       "      <td>95345840</td>\n",
       "      <td>12</td>\n",
       "      <td>2009-04-27</td>\n",
       "      <td>2009-04-27 12:00:00</td>\n",
       "      <td>0 days 12:00:00</td>\n",
       "    </tr>\n",
       "    <tr>\n",
       "      <th>80</th>\n",
       "      <td>TT</td>\n",
       "      <td>95356840</td>\n",
       "      <td>12</td>\n",
       "      <td>2009-04-27</td>\n",
       "      <td>2009-04-27 12:00:00</td>\n",
       "      <td>0 days 12:00:00</td>\n",
       "    </tr>\n",
       "    <tr>\n",
       "      <th>81</th>\n",
       "      <td>TT</td>\n",
       "      <td>95366840</td>\n",
       "      <td>12</td>\n",
       "      <td>2009-04-27</td>\n",
       "      <td>2009-04-27 12:00:00</td>\n",
       "      <td>0 days 12:00:00</td>\n",
       "    </tr>\n",
       "    <tr>\n",
       "      <th>82</th>\n",
       "      <td>TT</td>\n",
       "      <td>93423264</td>\n",
       "      <td>12</td>\n",
       "      <td>2009-04-27</td>\n",
       "      <td>2009-04-27 12:00:00</td>\n",
       "      <td>0 days 12:00:00</td>\n",
       "    </tr>\n",
       "  </tbody>\n",
       "</table>\n",
       "<p>83 rows × 6 columns</p>\n",
       "</div>"
      ],
      "text/plain": [
       "   nomvar       ip1  ip2 date_of_observation    date_of_validity  \\\n",
       "0      P0         0   12          2009-04-27 2009-04-27 12:00:00   \n",
       "1      PN         0   12          2009-04-27 2009-04-27 12:00:00   \n",
       "2      HY  44140192    0          2009-04-27 2009-04-27 12:00:00   \n",
       "3      TT  97642568   12          2009-04-27 2009-04-27 12:00:00   \n",
       "4      TT  97738568   12          2009-04-27 2009-04-27 12:00:00   \n",
       "..    ...       ...  ...                 ...                 ...   \n",
       "78     TT  95332840   12          2009-04-27 2009-04-27 12:00:00   \n",
       "79     TT  95345840   12          2009-04-27 2009-04-27 12:00:00   \n",
       "80     TT  95356840   12          2009-04-27 2009-04-27 12:00:00   \n",
       "81     TT  95366840   12          2009-04-27 2009-04-27 12:00:00   \n",
       "82     TT  93423264   12          2009-04-27 2009-04-27 12:00:00   \n",
       "\n",
       "     forecast_hour  \n",
       "0  0 days 12:00:00  \n",
       "1  0 days 12:00:00  \n",
       "2  0 days 12:00:00  \n",
       "3  0 days 12:00:00  \n",
       "4  0 days 12:00:00  \n",
       "..             ...  \n",
       "78 0 days 12:00:00  \n",
       "79 0 days 12:00:00  \n",
       "80 0 days 12:00:00  \n",
       "81 0 days 12:00:00  \n",
       "82 0 days 12:00:00  \n",
       "\n",
       "[83 rows x 6 columns]"
      ]
     },
     "execution_count": 10,
     "metadata": {},
     "output_type": "execute_result"
    }
   ],
   "source": [
    "df = fstpy.StandardFileReader(files, decode_metadata=True, query='(nomvar==\"TT\") and (ip2==12)').to_pandas()\n",
    "df[['nomvar', 'ip1' , 'ip2', 'date_of_observation', 'date_of_validity', 'forecast_hour']]"
   ]
  },
  {
   "cell_type": "markdown",
   "metadata": {},
   "source": [
    "## This example shows how to\n",
    "- get the list of all records matching a more complex selection criteria"
   ]
  },
  {
   "cell_type": "code",
   "execution_count": 19,
   "metadata": {},
   "outputs": [
    {
     "name": "stderr",
     "output_type": "stream",
     "text": [
      "WARNING:root:Found duplicate rows in dataframe!\n"
     ]
    },
    {
     "name": "stdout",
     "output_type": "stream",
     "text": [
      "selection date of validity 2015-07-07 06:00:00\n"
     ]
    },
    {
     "data": {
      "text/html": [
       "<div>\n",
       "<style scoped>\n",
       "    .dataframe tbody tr th:only-of-type {\n",
       "        vertical-align: middle;\n",
       "    }\n",
       "\n",
       "    .dataframe tbody tr th {\n",
       "        vertical-align: top;\n",
       "    }\n",
       "\n",
       "    .dataframe thead th {\n",
       "        text-align: right;\n",
       "    }\n",
       "</style>\n",
       "<table border=\"1\" class=\"dataframe\">\n",
       "  <thead>\n",
       "    <tr style=\"text-align: right;\">\n",
       "      <th></th>\n",
       "      <th>nomvar</th>\n",
       "      <th>level</th>\n",
       "      <th>ip1_pkind</th>\n",
       "      <th>ip2</th>\n",
       "      <th>date_of_observation</th>\n",
       "      <th>date_of_validity</th>\n",
       "      <th>forecast_hour</th>\n",
       "    </tr>\n",
       "  </thead>\n",
       "  <tbody>\n",
       "    <tr>\n",
       "      <th>228</th>\n",
       "      <td>TT</td>\n",
       "      <td>500.0</td>\n",
       "      <td>mb</td>\n",
       "      <td>0</td>\n",
       "      <td>2015-07-07 06:00:00</td>\n",
       "      <td>2015-07-07 06:00:00</td>\n",
       "      <td>0 days</td>\n",
       "    </tr>\n",
       "  </tbody>\n",
       "</table>\n",
       "</div>"
      ],
      "text/plain": [
       "    nomvar  level ip1_pkind  ip2 date_of_observation    date_of_validity  \\\n",
       "228     TT  500.0        mb    0 2015-07-07 06:00:00 2015-07-07 06:00:00   \n",
       "\n",
       "    forecast_hour  \n",
       "228        0 days  "
      ]
     },
     "execution_count": 19,
     "metadata": {},
     "output_type": "execute_result"
    }
   ],
   "source": [
    "import datetime\n",
    "filename = os.path.join(ATM_MODEL_DFILES, 'bcmk_p','anlp2015070706_000')\n",
    "\n",
    "df = fstpy.StandardFileReader(filename,decode_metadata=True).to_pandas()\n",
    "\n",
    "mydate = datetime.datetime(year=2015,month=7,day=7,hour=6)\n",
    "print(f'selection date of validity {mydate}')\n",
    "\n",
    "# nomvar='TT' at 500mb and valide date=20150707.06000000\n",
    "selection_df = df.loc[(df.nomvar==\"TT\") & (df.level==500) & (df.ip1_pkind=='mb') & (df.date_of_validity==mydate)]\n",
    "\n",
    "selection_df[['nomvar', 'level', 'ip1_pkind', 'ip2', 'date_of_observation', 'date_of_validity', 'forecast_hour']]"
   ]
  },
  {
   "cell_type": "markdown",
   "metadata": {},
   "source": [
    "## This example shows how to\n",
    "- get the data of all records matching selection criteria\n",
    "- then print statistics \n",
    "\n",
    "## version 1"
   ]
  },
  {
   "cell_type": "code",
   "execution_count": 12,
   "metadata": {},
   "outputs": [
    {
     "name": "stderr",
     "output_type": "stream",
     "text": [
      "WARNING:root:Found duplicate rows in dataframe!\n"
     ]
    },
    {
     "data": {
      "text/html": [
       "<div>\n",
       "<style scoped>\n",
       "    .dataframe tbody tr th:only-of-type {\n",
       "        vertical-align: middle;\n",
       "    }\n",
       "\n",
       "    .dataframe tbody tr th {\n",
       "        vertical-align: top;\n",
       "    }\n",
       "\n",
       "    .dataframe thead th {\n",
       "        text-align: right;\n",
       "    }\n",
       "</style>\n",
       "<table border=\"1\" class=\"dataframe\">\n",
       "  <thead>\n",
       "    <tr style=\"text-align: right;\">\n",
       "      <th></th>\n",
       "      <th>nomvar</th>\n",
       "      <th>level</th>\n",
       "      <th>ip2</th>\n",
       "      <th>mean</th>\n",
       "      <th>std</th>\n",
       "      <th>min</th>\n",
       "      <th>max</th>\n",
       "    </tr>\n",
       "  </thead>\n",
       "  <tbody>\n",
       "    <tr>\n",
       "      <th>0</th>\n",
       "      <td>P0</td>\n",
       "      <td>0.000000</td>\n",
       "      <td>12</td>\n",
       "      <td>966.402893</td>\n",
       "      <td>94.106522</td>\n",
       "      <td>530.958008</td>\n",
       "      <td>1037.958008</td>\n",
       "    </tr>\n",
       "    <tr>\n",
       "      <th>1</th>\n",
       "      <td>PN</td>\n",
       "      <td>0.000000</td>\n",
       "      <td>12</td>\n",
       "      <td>1010.275024</td>\n",
       "      <td>14.605115</td>\n",
       "      <td>949.084961</td>\n",
       "      <td>1069.334961</td>\n",
       "    </tr>\n",
       "    <tr>\n",
       "      <th>2</th>\n",
       "      <td>HY</td>\n",
       "      <td>0.100000</td>\n",
       "      <td>0</td>\n",
       "      <td>0.100000</td>\n",
       "      <td>0.000000</td>\n",
       "      <td>0.100000</td>\n",
       "      <td>0.100000</td>\n",
       "    </tr>\n",
       "    <tr>\n",
       "      <th>3</th>\n",
       "      <td>TT</td>\n",
       "      <td>0.000125</td>\n",
       "      <td>12</td>\n",
       "      <td>-36.181923</td>\n",
       "      <td>5.362104</td>\n",
       "      <td>-50.649536</td>\n",
       "      <td>-25.751099</td>\n",
       "    </tr>\n",
       "    <tr>\n",
       "      <th>4</th>\n",
       "      <td>TT</td>\n",
       "      <td>0.000221</td>\n",
       "      <td>12</td>\n",
       "      <td>-29.624002</td>\n",
       "      <td>7.580826</td>\n",
       "      <td>-53.338963</td>\n",
       "      <td>-6.417088</td>\n",
       "    </tr>\n",
       "    <tr>\n",
       "      <th>...</th>\n",
       "      <td>...</td>\n",
       "      <td>...</td>\n",
       "      <td>...</td>\n",
       "      <td>...</td>\n",
       "      <td>...</td>\n",
       "      <td>...</td>\n",
       "      <td>...</td>\n",
       "    </tr>\n",
       "    <tr>\n",
       "      <th>78</th>\n",
       "      <td>TT</td>\n",
       "      <td>0.961000</td>\n",
       "      <td>12</td>\n",
       "      <td>4.206351</td>\n",
       "      <td>19.175867</td>\n",
       "      <td>-54.848442</td>\n",
       "      <td>39.370308</td>\n",
       "    </tr>\n",
       "    <tr>\n",
       "      <th>79</th>\n",
       "      <td>TT</td>\n",
       "      <td>0.974000</td>\n",
       "      <td>12</td>\n",
       "      <td>4.732224</td>\n",
       "      <td>20.114388</td>\n",
       "      <td>-59.764534</td>\n",
       "      <td>40.704216</td>\n",
       "    </tr>\n",
       "    <tr>\n",
       "      <th>80</th>\n",
       "      <td>TT</td>\n",
       "      <td>0.985000</td>\n",
       "      <td>12</td>\n",
       "      <td>5.157967</td>\n",
       "      <td>20.984278</td>\n",
       "      <td>-63.226536</td>\n",
       "      <td>41.835964</td>\n",
       "    </tr>\n",
       "    <tr>\n",
       "      <th>81</th>\n",
       "      <td>TT</td>\n",
       "      <td>0.995000</td>\n",
       "      <td>12</td>\n",
       "      <td>5.503872</td>\n",
       "      <td>21.702599</td>\n",
       "      <td>-65.360222</td>\n",
       "      <td>42.889778</td>\n",
       "    </tr>\n",
       "    <tr>\n",
       "      <th>82</th>\n",
       "      <td>TT</td>\n",
       "      <td>1.000000</td>\n",
       "      <td>12</td>\n",
       "      <td>5.237006</td>\n",
       "      <td>22.714193</td>\n",
       "      <td>-71.501175</td>\n",
       "      <td>43.405075</td>\n",
       "    </tr>\n",
       "  </tbody>\n",
       "</table>\n",
       "<p>83 rows × 7 columns</p>\n",
       "</div>"
      ],
      "text/plain": [
       "   nomvar     level  ip2         mean        std         min          max\n",
       "0      P0  0.000000   12   966.402893  94.106522  530.958008  1037.958008\n",
       "1      PN  0.000000   12  1010.275024  14.605115  949.084961  1069.334961\n",
       "2      HY  0.100000    0     0.100000   0.000000    0.100000     0.100000\n",
       "3      TT  0.000125   12   -36.181923   5.362104  -50.649536   -25.751099\n",
       "4      TT  0.000221   12   -29.624002   7.580826  -53.338963    -6.417088\n",
       "..    ...       ...  ...          ...        ...         ...          ...\n",
       "78     TT  0.961000   12     4.206351  19.175867  -54.848442    39.370308\n",
       "79     TT  0.974000   12     4.732224  20.114388  -59.764534    40.704216\n",
       "80     TT  0.985000   12     5.157967  20.984278  -63.226536    41.835964\n",
       "81     TT  0.995000   12     5.503872  21.702599  -65.360222    42.889778\n",
       "82     TT  1.000000   12     5.237006  22.714193  -71.501175    43.405075\n",
       "\n",
       "[83 rows x 7 columns]"
      ]
     },
     "execution_count": 12,
     "metadata": {},
     "output_type": "execute_result"
    }
   ],
   "source": [
    "import numpy as np\n",
    "df = fstpy.StandardFileReader(files,decode_metadata=True, query='(nomvar==\"TT\") and (ip2==12)').to_pandas()\n",
    "df = fstpy.compute(df)\n",
    "df['mean'] = df['d'].map(np.mean)\n",
    "df['std'] = df['d'].map(np.std)\n",
    "df['min'] = df['d'].map(np.min)\n",
    "df['max'] = df['d'].map(np.max)\n",
    "df[['nomvar', 'level', 'ip2', 'mean', 'std', 'min', 'max']]"
   ]
  },
  {
   "cell_type": "markdown",
   "metadata": {},
   "source": [
    "## version 2\n",
    "Statistics for the first column of TT"
   ]
  },
  {
   "cell_type": "code",
   "execution_count": 53,
   "metadata": {},
   "outputs": [
    {
     "data": {
      "text/plain": [
       "<AxesSubplot:xlabel='level'>"
      ]
     },
     "execution_count": 53,
     "metadata": {},
     "output_type": "execute_result"
    },
    {
     "data": {
      "image/png": "[encoded data removed]",
      "text/plain": [
       "<Figure size 432x288 with 1 Axes>"
      ]
     },
     "metadata": {
      "needs_background": "light"
     },
     "output_type": "display_data"
    },
    {
     "data": {
      "image/png": "[encoded data removed]",
      "text/plain": [
       "<Figure size 432x288 with 1 Axes>"
      ]
     },
     "metadata": {
      "needs_background": "light"
     },
     "output_type": "display_data"
    }
   ],
   "source": [
    "tt_df = df.loc[df.nomvar=='TT']\n",
    "column = np.stack(tt_df.d)\n",
    "column = column[:,0,0].compute()\n",
    "tt_df.level\n",
    "tt_new_df = pd.DataFrame({'level':tt_df.level, 'value':column}).sort_values(by='level').reset_index(drop=True)\n",
    "tt_new_df.set_index('value').plot()\n",
    "tt_new_df.set_index('level').plot()"
   ]
  },
  {
   "cell_type": "markdown",
   "metadata": {},
   "source": [
    "## This example shows how to \n",
    "- get the vertical grid definition. \n",
    "- Use it to read a 3D field (records on all levels)\n",
    "- get the profile at one point"
   ]
  },
  {
   "cell_type": "code",
   "execution_count": 13,
   "metadata": {},
   "outputs": [
    {
     "name": "stdout",
     "output_type": "stream",
     "text": [
      "levels\n",
      "2     0.0000\n",
      "3     0.0102\n",
      "4     0.0233\n",
      "5     0.0374\n",
      "6     0.0508\n",
      "       ...  \n",
      "59    0.9850\n",
      "60    0.9900\n",
      "61    0.9950\n",
      "62    0.9975\n",
      "63    1.0000\n",
      "Name: level, Length: 62, dtype: float32\n",
      "Profile of TT at lat,lon: 55.8630, 243.9894  mean: -38.5076 std: 17.5029 min: -65.1320 max: -13.0722\n"
     ]
    }
   ],
   "source": [
    "fdate     = datetime.date.today().strftime('%Y%m%d') + '00_048'\n",
    "filename  = os.path.join(CMCGRIDF, 'prog', 'regeta', fdate)\n",
    "\n",
    "#get the records\n",
    "df = fstpy.StandardFileReader(filename,decode_metadata=True, query='(nomvar==\"TT\") and (ip2==48)').to_pandas()\n",
    "\n",
    "# make sure they are sorted correclty\n",
    "tt_df = df.loc[df.nomvar=='TT'].sort_values(by='level')\n",
    "\n",
    "#load the data\n",
    "tt_df = fstpy.compute(tt_df)\n",
    "\n",
    "# define a point\n",
    "i1, j1 = (tt_df.iloc[0].d.shape[0]//2, tt_df.iloc[0].d.shape[1]//2)\n",
    "\n",
    "#get the lat and lon of that  point\n",
    "lat_lon_df = fstpy.get_2d_lat_lon(df)\n",
    "lats = lat_lon_df.loc[lat_lon_df.nomvar=='LA'].iloc[0].d\n",
    "lons = lat_lon_df.loc[lat_lon_df.nomvar=='LO'].iloc[0].d\n",
    "\n",
    "# get that particular column of data\n",
    "tt_profile = np.stack(tt_df.d)[:,i1,j1]\n",
    "\n",
    "# get the stats\n",
    "meanv = np.mean(tt_profile)\n",
    "stdv = np.std(tt_profile)\n",
    "minv = np.min(tt_profile)\n",
    "maxv = np.max(tt_profile)\n",
    "\n",
    "print(f'levels\\n{tt_df.level}')\n",
    "print(f'Profile of TT at lat,lon: {lats[i1,j1]:.4f}, {lons[i1,j1]:.4f}  mean: {meanv:.4f} std: {stdv:.4f} min: {minv:.4f} max: {maxv:.4f}')\n"
   ]
  },
  {
   "cell_type": "markdown",
   "metadata": {},
   "source": [
    "# Edit: In-Place Record Meta Edition (a la editfst zap w/o copy) \n",
    "## This example shows how to\n",
    "- select records in a RPNStd file\n",
    "- edit in-place"
   ]
  },
  {
   "cell_type": "code",
   "execution_count": 14,
   "metadata": {},
   "outputs": [
    {
     "name": "stdout",
     "output_type": "stream",
     "text": [
      "  nomvar typvar      etiket\n",
      "0     >>      X  MY_NEW_ETK\n",
      "1     ^^      X  MY_NEW_ETK\n",
      "2     >>      X  MY_NEW_ETK\n",
      "3     ^^      X  MY_NEW_ETK\n",
      "4     >>      X  MY_NEW_ETK\n",
      "5     ^^      X  MY_NEW_ETK\n",
      "6     ME      C        TOTO\n",
      "7     MG      C  MY_NEW_ETK\n",
      "8     VF      C  MY_NEW_ETK\n",
      "9     VF      C  MY_NEW_ETK\n"
     ]
    }
   ],
   "source": [
    "import sys, os, os.path, stat, shutil\n",
    "filename  = 'geophy.fst'\n",
    "ATM_MODEL_DFILES = '/fs/ssm/eccc/mrd/rpn/MIG/GEM/d/gem-data/gem-data_4.2.0/gem-data_4.2.0_all/share/data/dfiles'\n",
    "fileName0 = os.path.join(ATM_MODEL_DFILES,'bcmk',filename)\n",
    "shutil.copyfile(fileName0, filename)\n",
    "st = os.stat(filename)\n",
    "os.chmod(filename, st.st_mode | stat.S_IWRITE)\n",
    "\n",
    "df = fstpy.StandardFileReader(filename).to_pandas()\n",
    "\n",
    "# change all etiket\n",
    "df['etiket'] = 'MY_NEW_ETK'\n",
    "\n",
    "df.loc[df.nomvar=='ME','etiket'] = 'TOTO'\n",
    "\n",
    "fstpy.StandardFileWriter(filename,df,mode='update',overwrite=True).to_fst()\n",
    "\n",
    "df = fstpy.StandardFileReader(filename).to_pandas()\n",
    "\n",
    "print(df[['nomvar','typvar','etiket']].head(10))\n",
    "\n",
    "#cleanup\n",
    "fstpy.delete_file(filename)"
   ]
  },
  {
   "cell_type": "markdown",
   "metadata": {},
   "source": [
    "# Edit: Copy records (a la editfst desire)\n",
    "\n",
    "## This example shows how to\n",
    "- select records in a RPNStd file\n",
    "- read the record data + meta\n",
    "- write the record data + meta "
   ]
  },
  {
   "cell_type": "code",
   "execution_count": 15,
   "metadata": {},
   "outputs": [
    {
     "name": "stderr",
     "output_type": "stream",
     "text": [
      "WARNING:root:Found duplicate rows in dataframe!\n"
     ]
    },
    {
     "name": "stdout",
     "output_type": "stream",
     "text": [
      "  nomvar typvar    etiket   ni   nj  nk      dateo       ip1  ip2\n",
      "0     UU      P  G133K80P  200  100   1  354514400  97642568    0\n",
      "1     VV      P  G133K80P  200  100   1  354514400  97642568    0\n",
      "2     UU      P  G133K80P  200  100   1  354514400  97738568    0\n",
      "3     VV      P  G133K80P  200  100   1  354514400  97738568    0\n",
      "4     UU      P  G133K80P  200  100   1  354514400  97899568    0\n",
      "5     VV      P  G133K80P  200  100   1  354514400  97899568    0\n",
      "6     UU      P  G133K80P  200  100   1  354514400  98152568    0\n",
      "7     VV      P  G133K80P  200  100   1  354514400  98152568    0\n",
      "8     UU      P  G133K80P  200  100   1  354514400  96569992    0\n",
      "9     VV      P  G133K80P  200  100   1  354514400  96569992    0\n"
     ]
    }
   ],
   "source": [
    "fileNameIn  = os.path.join(ATM_MODEL_DFILES,'bcmk')\n",
    "ATM_MODEL_DFILES = '/fs/ssm/eccc/mrd/rpn/MIG/GEM/d/gem-data/gem-data_4.2.0/gem-data_4.2.0_all/share/data/dfiles'\n",
    "directory = os.path.join(ATM_MODEL_DFILES, 'bcmk' , '**')\n",
    "files = glob.glob(directory)\n",
    "files = [f for f in files if fstpy.maybeFST(f)]\n",
    "\n",
    "df = fstpy.StandardFileReader(files).to_pandas()\n",
    "\n",
    "# select UU and VV\n",
    "uv_df = df.loc[df.nomvar.isin(['UU','VV'])]\n",
    "\n",
    "fileNameOut = 'myfstfile.fst'\n",
    "\n",
    "# write the records\n",
    "fstpy.StandardFileWriter(fileNameOut, uv_df).to_fst()\n",
    "\n",
    "df = fstpy.StandardFileReader(fileNameOut).to_pandas()\n",
    "\n",
    "# check \n",
    "print(df[['nomvar','typvar','etiket', 'ni', 'nj', 'nk', 'dateo', 'ip1', 'ip2']].head(10))\n",
    "\n",
    "#cleanup\n",
    "fstpy.delete_file(fileNameOut)"
   ]
  },
  {
   "cell_type": "markdown",
   "metadata": {},
   "source": [
    "# Edit: Read, Edit, Write records with meta, grid and vgrid\n",
    "\n",
    "## This example shows how to\n",
    "- select records in a RPNStd file\n",
    "- read the record data + meta\n",
    "- edit/use record data and meta (compute the wind velocity)\n",
    "- write the recod data + meta\n",
    "- copy (read/write) the record grid descriptors\n",
    "- copy (read/write) the file vgrid descriptor "
   ]
  },
  {
   "cell_type": "code",
   "execution_count": 16,
   "metadata": {},
   "outputs": [
    {
     "name": "stdout",
     "output_type": "stream",
     "text": [
      "  nomvar typvar     etiket    ni    nj  nk      dateo    ip1  ip2\n",
      "0   WSPD      P  R1_V710_N  1102  1076   1  453701600  12000   48\n",
      "1   WSPD      P  R1_V710_N  1102  1076   1  453701600  11975   48\n",
      "2   WSPD      P  R1_V710_N  1102  1076   1  453701600  11950   48\n",
      "3   WSPD      P  R1_V710_N  1102  1076   1  453701600  11900   48\n",
      "4   WSPD      P  R1_V710_N  1102  1076   1  453701600  11850   48\n",
      "5   WSPD      P  R1_V710_N  1102  1076   1  453701600  11792   48\n",
      "6   WSPD      P  R1_V710_N  1102  1076   1  453701600  11733   48\n",
      "7   WSPD      P  R1_V710_N  1102  1076   1  453701600  11670   48\n",
      "8   WSPD      P  R1_V710_N  1102  1076   1  453701600  11606   48\n",
      "9   WSPD      P  R1_V710_N  1102  1076   1  453701600  11467   48\n"
     ]
    }
   ],
   "source": [
    "import copy\n",
    "import pandas as pd\n",
    "fileNameIn  = os.path.join(CMCGRIDF, 'prog', 'regeta', fdate)\n",
    "fileNameOut = 'uvfstfile.fst'\n",
    "fstpy.delete_file(fileNameOut)\n",
    "df = fstpy.StandardFileReader(fileNameIn, decode_metadata=True).to_pandas()\n",
    "\n",
    "# select grid meta data\n",
    "meta_fileds_df = fstpy.select_meta(df)\n",
    "\n",
    "# select UU and VV, make sure they are sorted, dont assume the file is ok\n",
    "uu_df = df.loc[df.nomvar == 'UU'].sort_values(by='level').reset_index(drop=True)\n",
    "vv_df = df.loc[df.nomvar == 'VV'].sort_values(by='level').reset_index(drop=True)\n",
    "\n",
    "#create uv container\n",
    "uv_df = copy.deepcopy(uu_df)\n",
    "uv_df['nomvar'] = 'WSPD'\n",
    "\n",
    "assert(len(uu_df.index)==len(vv_df.index))\n",
    "for i in uu_df.index:\n",
    "    uv_df.at[i,'d'] = (uu_df.at[i,'d']**2 + vv_df.at[i,'d']**2)**.5\n",
    "\n",
    "# unit conversion\n",
    "uv_df = fstpy.unit_convert(uv_df,to_unit_name='meter_per_second')\n",
    "\n",
    "# combine uv and grids meta\n",
    "all_df = pd.concat([meta_fileds_df,uv_df],ignore_index=True)\n",
    "\n",
    "# write the records\n",
    "fstpy.StandardFileWriter(fileNameOut, all_df).to_fst()\n",
    "\n",
    "df = fstpy.StandardFileReader(fileNameOut).to_pandas()\n",
    "\n",
    "# check \n",
    "print(df[['nomvar','typvar','etiket', 'ni', 'nj', 'nk', 'dateo', 'ip1', 'ip2']].head(10))\n",
    "\n",
    "#cleanup\n",
    "fstpy.delete_file(fileNameOut)\n"
   ]
  },
  {
   "cell_type": "markdown",
   "metadata": {},
   "source": [
    "# Edit: New file and records from scratch\n",
    "\n",
    "## This example shows how to\n",
    "- Create a record meta and data from scratch\n",
    "- Create grid descriptors for the data\n",
    "- Create vgrid descriptor for the data\n",
    "- write the recod data + meta\n",
    "- write the grid descriptors\n",
    "- write the vgrid descriptor "
   ]
  },
  {
   "cell_type": "code",
   "execution_count": 17,
   "metadata": {},
   "outputs": [
    {
     "name": "stdout",
     "output_type": "stream",
     "text": [
      "  nomvar typvar  etiket  ni  nj  nk      dateo       ip1    ip2  ip3  deet  npas  datyp  nbits grtyp    ig1    ig2    ig3    ig4      datev\n",
      "0   MASK      P  MY_ETK  90  45   1  408538100  41394464      6    0  3600     6    133     16     G  66848  39563      0      0  408543500\n",
      "1   MASK      P  MY_ETK  90  45   1  408538100  41744464      6    0  3600     6    133     16     G  66848  39563      0      0  408543500\n",
      "2   MASK      P  MY_ETK  90  45   1  408538100  39945888      6    0  3600     6    133     16     G  66848  39563      0      0  408543500\n",
      "3     ^^      X  MY_ETK   1  45   1          0     66848  39563    0     0     0      5     32     E    900     10  43200  43200          0\n",
      "4     >>      X  MY_ETK  90   1   1          0     66848  39563    0     0     0      5     32     E    900     10  43200  43200          0\n",
      "5     !!      X  MY_ETK   3   4   1          0     66848  39563    0     0     0      5     64     X   2001      0      0      0          0\n"
     ]
    }
   ],
   "source": [
    "import os, sys\n",
    "import numpy as np\n",
    "import rpnpy.librmn.all as rmn\n",
    "import rpnpy.vgd.all as vgd\n",
    "import pandas as pd\n",
    "\n",
    "ni: int = 90\n",
    "nj: int = 45  \n",
    "# Create grid definition\n",
    "grif_def = rmn.defGrid_ZE(ni=ni, nj=nj, lat0=35., lon0=250., dlat=0.5, dlon=0.5, xlat1=0., xlon1=180., xlat2=1., xlon2=270.)\n",
    "\n",
    "# create a dataframe of the grid definition\n",
    "grid_df = fstpy.get_df_from_grid(grif_def)\n",
    "\n",
    "\n",
    "lvls: list = [500.,850.,1000.]\n",
    "myvgd = vgd.vgd_new_pres(lvls)\n",
    "\n",
    "# Create vertical grid definition\n",
    "vgrid_df = fstpy.get_df_from_vgrid(myvgd, grid_df.ip1.unique()[0],grid_df.ip2.unique()[0])\n",
    "\n",
    "ip1list = vgd.vgd_get(myvgd, 'VIPT')\n",
    "datyp   = rmn.FST_DATYP_LIST['float_IEEE_compressed'] #133\n",
    "dateo = rmn.newdate(rmn.NEWDATE_PRINT2STAMP, 20160302, 1800000)\n",
    "ig1 = grid_df.ip1.unique()[0]\n",
    "ig2 = grid_df.ip2.unique()[0]\n",
    "\n",
    "# create a 3 row dataframe to hold mask\n",
    "df = fstpy.create_empty_dataframe(len(ip1list))\n",
    "\n",
    "new_column_values = {'nomvar': 'MASK', 'ni': ni, 'nj': nj, 'ip1': ip1list, 'ip2': 6, 'dateo': dateo, 'deet': 3600, 'npas': 6, 'datyp': datyp, 'ig1': ig1, 'ig2': ig2}\n",
    "\n",
    "# update column values\n",
    "for k,v in new_column_values.items():\n",
    "    df[k] = v\n",
    "\n",
    "\n",
    "array = np.asfortranarray(np.zeros((ni, nj)), dtype=np.float32)\n",
    "array[10:-11,5:-6] = 1.\n",
    "arrays = [array for _ in range(len(ip1list))]\n",
    "\n",
    "df['d'] = arrays\n",
    "\n",
    "all_df = pd.concat([df, grid_df, vgrid_df],ignore_index=True)\n",
    "\n",
    "# change etiket of all records\n",
    "all_df['etiket'] = 'my_etk'\n",
    "\n",
    "# necessary to write results\n",
    "all_df = fstpy.add_grid_column(all_df)\n",
    "\n",
    "fileNameOut = 'newfromscratch.fst'\n",
    "\n",
    "if os.path.isfile(fileNameOut):\n",
    "    os.remove(fileNameOut)\n",
    "\n",
    "fstpy.StandardFileWriter(fileNameOut, all_df).to_fst()\n",
    "\n",
    "df = fstpy.StandardFileReader(fileNameOut).to_pandas()\n",
    "\n",
    "# check \n",
    "print(df[['nomvar', 'typvar', 'etiket', 'ni', 'nj', 'nk','dateo', 'ip1', 'ip2', 'ip3', 'deet', 'npas', 'datyp', 'nbits', 'grtyp', 'ig1', 'ig2', 'ig3', 'ig4', 'datev']].to_string())\n",
    "\n",
    "#cleanup\n",
    "fstpy.delete_file(fileNameOut)\n",
    "\n",
    "# check metadata cleanup"
   ]
  }
 ],
 "metadata": {
  "interpreter": {
   "hash": "5d30657c2dbd1cbb51e7376e0bd3558cf73735189708423b5594cdc55d2f21fd"
  },
  "kernelspec": {
   "display_name": "Python 3.8.1 64-bit ('surgepy_1.0.8_all': conda)",
   "language": "python",
   "name": "python3"
  },
  "language_info": {
   "codemirror_mode": {
    "name": "ipython",
    "version": 3
   },
   "file_extension": ".py",
   "mimetype": "text/x-python",
   "name": "python",
   "nbconvert_exporter": "python",
   "pygments_lexer": "ipython3",
   "version": "3.8.1"
  },
  "orig_nbformat": 4
 },
 "nbformat": 4,
 "nbformat_minor": 2
}
